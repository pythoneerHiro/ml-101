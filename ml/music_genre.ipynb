{
 "cells": [
  {
   "cell_type": "code",
   "execution_count": 2,
   "metadata": {
    "collapsed": true
   },
   "outputs": [
    {
     "data": {
      "text/plain": "    age  gender      genre\n0    20       1     HipHop\n1    23       1     HipHop\n2    25       1     HipHop\n3    26       1       Jazz\n4    29       1       Jazz\n5    30       1       Jazz\n6    31       1  Classical\n7    33       1  Classical\n8    37       1  Classical\n9    20       0      Dance\n10   21       0      Dance\n11   25       0      Dance\n12   26       0   Acoustic\n13   27       0   Acoustic\n14   30       0   Acoustic\n15   31       0  Classical\n16   34       0  Classical\n17   35       0  Classical",
      "text/html": "<div>\n<style scoped>\n    .dataframe tbody tr th:only-of-type {\n        vertical-align: middle;\n    }\n\n    .dataframe tbody tr th {\n        vertical-align: top;\n    }\n\n    .dataframe thead th {\n        text-align: right;\n    }\n</style>\n<table border=\"1\" class=\"dataframe\">\n  <thead>\n    <tr style=\"text-align: right;\">\n      <th></th>\n      <th>age</th>\n      <th>gender</th>\n      <th>genre</th>\n    </tr>\n  </thead>\n  <tbody>\n    <tr>\n      <th>0</th>\n      <td>20</td>\n      <td>1</td>\n      <td>HipHop</td>\n    </tr>\n    <tr>\n      <th>1</th>\n      <td>23</td>\n      <td>1</td>\n      <td>HipHop</td>\n    </tr>\n    <tr>\n      <th>2</th>\n      <td>25</td>\n      <td>1</td>\n      <td>HipHop</td>\n    </tr>\n    <tr>\n      <th>3</th>\n      <td>26</td>\n      <td>1</td>\n      <td>Jazz</td>\n    </tr>\n    <tr>\n      <th>4</th>\n      <td>29</td>\n      <td>1</td>\n      <td>Jazz</td>\n    </tr>\n    <tr>\n      <th>5</th>\n      <td>30</td>\n      <td>1</td>\n      <td>Jazz</td>\n    </tr>\n    <tr>\n      <th>6</th>\n      <td>31</td>\n      <td>1</td>\n      <td>Classical</td>\n    </tr>\n    <tr>\n      <th>7</th>\n      <td>33</td>\n      <td>1</td>\n      <td>Classical</td>\n    </tr>\n    <tr>\n      <th>8</th>\n      <td>37</td>\n      <td>1</td>\n      <td>Classical</td>\n    </tr>\n    <tr>\n      <th>9</th>\n      <td>20</td>\n      <td>0</td>\n      <td>Dance</td>\n    </tr>\n    <tr>\n      <th>10</th>\n      <td>21</td>\n      <td>0</td>\n      <td>Dance</td>\n    </tr>\n    <tr>\n      <th>11</th>\n      <td>25</td>\n      <td>0</td>\n      <td>Dance</td>\n    </tr>\n    <tr>\n      <th>12</th>\n      <td>26</td>\n      <td>0</td>\n      <td>Acoustic</td>\n    </tr>\n    <tr>\n      <th>13</th>\n      <td>27</td>\n      <td>0</td>\n      <td>Acoustic</td>\n    </tr>\n    <tr>\n      <th>14</th>\n      <td>30</td>\n      <td>0</td>\n      <td>Acoustic</td>\n    </tr>\n    <tr>\n      <th>15</th>\n      <td>31</td>\n      <td>0</td>\n      <td>Classical</td>\n    </tr>\n    <tr>\n      <th>16</th>\n      <td>34</td>\n      <td>0</td>\n      <td>Classical</td>\n    </tr>\n    <tr>\n      <th>17</th>\n      <td>35</td>\n      <td>0</td>\n      <td>Classical</td>\n    </tr>\n  </tbody>\n</table>\n</div>"
     },
     "execution_count": 2,
     "metadata": {},
     "output_type": "execute_result"
    }
   ],
   "source": [
    "import pandas as pd\n",
    "\n",
    "music_data = pd.read_csv('dataset/music.csv')\n",
    "music_data"
   ]
  },
  {
   "cell_type": "code",
   "execution_count": 3,
   "outputs": [],
   "source": [
    "X = music_data.drop(columns=['genre'])\n",
    "y = music_data['genre']"
   ],
   "metadata": {
    "collapsed": false
   }
  },
  {
   "cell_type": "markdown",
   "source": [
    "Your Machine Learning Model using Decision tree algorithm"
   ],
   "metadata": {
    "collapsed": false
   }
  },
  {
   "cell_type": "code",
   "execution_count": 4,
   "outputs": [
    {
     "name": "stderr",
     "output_type": "stream",
     "text": [
      "/Users/hiro/opt/anaconda3/lib/python3.9/site-packages/sklearn/base.py:450: UserWarning: X does not have valid feature names, but DecisionTreeClassifier was fitted with feature names\n",
      "  warnings.warn(\n"
     ]
    },
    {
     "data": {
      "text/plain": "array(['HipHop', 'Dance'], dtype=object)"
     },
     "execution_count": 4,
     "metadata": {},
     "output_type": "execute_result"
    }
   ],
   "source": [
    "from sklearn.tree import DecisionTreeClassifier\n",
    "\n",
    "model = DecisionTreeClassifier()\n",
    "model.fit(X, y)\n",
    "\n",
    "predictions = model.predict([[21, 1], [22, 0]])  #2 predicts genre that a 21 year old male likes and 22 year old female\n",
    "predictions"
   ],
   "metadata": {
    "collapsed": false
   }
  },
  {
   "cell_type": "markdown",
   "source": [
    "Test the accuracy!"
   ],
   "metadata": {
    "collapsed": false
   }
  },
  {
   "cell_type": "code",
   "execution_count": 5,
   "outputs": [
    {
     "data": {
      "text/plain": "1.0"
     },
     "execution_count": 5,
     "metadata": {},
     "output_type": "execute_result"
    }
   ],
   "source": [
    "from sklearn.model_selection import train_test_split\n",
    "from sklearn.metrics import accuracy_score\n",
    "\n",
    "X_train, X_test, y_train, y_test = train_test_split(X, y, test_size=0.2)  #only 20% of dataset is for testing\n",
    "model = DecisionTreeClassifier()\n",
    "model.fit(X_train, y_train)\n",
    "\n",
    "predictions = model.predict(X_test)\n",
    "accuracy_score(y_test, predictions)"
   ],
   "metadata": {
    "collapsed": false
   }
  },
  {
   "cell_type": "markdown",
   "source": [
    "Backup & Restore model"
   ],
   "metadata": {
    "collapsed": false
   }
  },
  {
   "cell_type": "code",
   "execution_count": 6,
   "outputs": [
    {
     "data": {
      "text/plain": "['backup.joblib']"
     },
     "execution_count": 6,
     "metadata": {},
     "output_type": "execute_result"
    }
   ],
   "source": [
    "import joblib\n",
    "\n",
    "joblib.dump(model, 'backup.joblib')"
   ],
   "metadata": {
    "collapsed": false
   }
  },
  {
   "cell_type": "code",
   "execution_count": 7,
   "outputs": [],
   "source": [
    "model = joblib.load('backup.joblib')"
   ],
   "metadata": {
    "collapsed": false
   }
  },
  {
   "cell_type": "markdown",
   "source": [
    "Visualize the decision tree"
   ],
   "metadata": {
    "collapsed": false
   }
  },
  {
   "cell_type": "code",
   "execution_count": 9,
   "outputs": [],
   "source": [
    "from sklearn import tree\n",
    "\n",
    "tree.export_graphviz(model, out_file='visualize-genre.dot', feature_names=['age', 'gender'],\n",
    "                     class_names=sorted(y.unique()), label='all', rounded=True, filled=True)\n"
   ],
   "metadata": {
    "collapsed": false
   }
  },
  {
   "cell_type": "markdown",
   "source": [],
   "metadata": {
    "collapsed": false
   }
  },
  {
   "cell_type": "markdown",
   "source": [],
   "metadata": {
    "collapsed": false
   }
  }
 ],
 "metadata": {
  "kernelspec": {
   "display_name": "Python 3",
   "language": "python",
   "name": "python3"
  },
  "language_info": {
   "codemirror_mode": {
    "name": "ipython",
    "version": 2
   },
   "file_extension": ".py",
   "mimetype": "text/x-python",
   "name": "python",
   "nbconvert_exporter": "python",
   "pygments_lexer": "ipython2",
   "version": "2.7.6"
  }
 },
 "nbformat": 4,
 "nbformat_minor": 0
}
