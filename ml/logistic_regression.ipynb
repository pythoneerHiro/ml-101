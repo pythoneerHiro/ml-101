{
 "cells": [
  {
   "cell_type": "markdown",
   "source": [
    "Logistic Regression"
   ],
   "metadata": {
    "collapsed": false
   }
  },
  {
   "cell_type": "code",
   "execution_count": 2,
   "outputs": [],
   "source": [
    "import pandas as pd\n",
    "import matplotlib.pyplot as plt"
   ],
   "metadata": {
    "collapsed": false
   }
  },
  {
   "cell_type": "code",
   "execution_count": 3,
   "outputs": [
    {
     "data": {
      "text/plain": "    age  bought_insurance\n0    22                 0\n1    25                 0\n2    47                 1\n3    52                 0\n4    46                 1\n5    56                 1\n6    55                 0\n7    60                 1\n8    62                 1\n9    61                 1\n10   18                 0\n11   28                 0\n12   27                 0\n13   29                 0\n14   49                 1\n15   55                 1\n16   25                 1\n17   58                 1\n18   19                 0\n19   18                 0\n20   21                 0\n21   26                 0\n22   40                 1\n23   45                 1\n24   50                 1\n25   54                 1\n26   23                 0",
      "text/html": "<div>\n<style scoped>\n    .dataframe tbody tr th:only-of-type {\n        vertical-align: middle;\n    }\n\n    .dataframe tbody tr th {\n        vertical-align: top;\n    }\n\n    .dataframe thead th {\n        text-align: right;\n    }\n</style>\n<table border=\"1\" class=\"dataframe\">\n  <thead>\n    <tr style=\"text-align: right;\">\n      <th></th>\n      <th>age</th>\n      <th>bought_insurance</th>\n    </tr>\n  </thead>\n  <tbody>\n    <tr>\n      <th>0</th>\n      <td>22</td>\n      <td>0</td>\n    </tr>\n    <tr>\n      <th>1</th>\n      <td>25</td>\n      <td>0</td>\n    </tr>\n    <tr>\n      <th>2</th>\n      <td>47</td>\n      <td>1</td>\n    </tr>\n    <tr>\n      <th>3</th>\n      <td>52</td>\n      <td>0</td>\n    </tr>\n    <tr>\n      <th>4</th>\n      <td>46</td>\n      <td>1</td>\n    </tr>\n    <tr>\n      <th>5</th>\n      <td>56</td>\n      <td>1</td>\n    </tr>\n    <tr>\n      <th>6</th>\n      <td>55</td>\n      <td>0</td>\n    </tr>\n    <tr>\n      <th>7</th>\n      <td>60</td>\n      <td>1</td>\n    </tr>\n    <tr>\n      <th>8</th>\n      <td>62</td>\n      <td>1</td>\n    </tr>\n    <tr>\n      <th>9</th>\n      <td>61</td>\n      <td>1</td>\n    </tr>\n    <tr>\n      <th>10</th>\n      <td>18</td>\n      <td>0</td>\n    </tr>\n    <tr>\n      <th>11</th>\n      <td>28</td>\n      <td>0</td>\n    </tr>\n    <tr>\n      <th>12</th>\n      <td>27</td>\n      <td>0</td>\n    </tr>\n    <tr>\n      <th>13</th>\n      <td>29</td>\n      <td>0</td>\n    </tr>\n    <tr>\n      <th>14</th>\n      <td>49</td>\n      <td>1</td>\n    </tr>\n    <tr>\n      <th>15</th>\n      <td>55</td>\n      <td>1</td>\n    </tr>\n    <tr>\n      <th>16</th>\n      <td>25</td>\n      <td>1</td>\n    </tr>\n    <tr>\n      <th>17</th>\n      <td>58</td>\n      <td>1</td>\n    </tr>\n    <tr>\n      <th>18</th>\n      <td>19</td>\n      <td>0</td>\n    </tr>\n    <tr>\n      <th>19</th>\n      <td>18</td>\n      <td>0</td>\n    </tr>\n    <tr>\n      <th>20</th>\n      <td>21</td>\n      <td>0</td>\n    </tr>\n    <tr>\n      <th>21</th>\n      <td>26</td>\n      <td>0</td>\n    </tr>\n    <tr>\n      <th>22</th>\n      <td>40</td>\n      <td>1</td>\n    </tr>\n    <tr>\n      <th>23</th>\n      <td>45</td>\n      <td>1</td>\n    </tr>\n    <tr>\n      <th>24</th>\n      <td>50</td>\n      <td>1</td>\n    </tr>\n    <tr>\n      <th>25</th>\n      <td>54</td>\n      <td>1</td>\n    </tr>\n    <tr>\n      <th>26</th>\n      <td>23</td>\n      <td>0</td>\n    </tr>\n  </tbody>\n</table>\n</div>"
     },
     "execution_count": 3,
     "metadata": {},
     "output_type": "execute_result"
    }
   ],
   "source": [
    "df = pd.read_csv('dataset/insurance_data.csv')\n",
    "df"
   ],
   "metadata": {
    "collapsed": false
   }
  },
  {
   "cell_type": "code",
   "execution_count": 4,
   "outputs": [
    {
     "data": {
      "text/plain": "<matplotlib.collections.PathCollection at 0x7f99786d0640>"
     },
     "execution_count": 4,
     "metadata": {},
     "output_type": "execute_result"
    },
    {
     "data": {
      "text/plain": "<Figure size 640x480 with 1 Axes>",
      "image/png": "[encoded data removed]"
     },
     "metadata": {},
     "output_type": "display_data"
    }
   ],
   "source": [
    "plt.scatter(df.age, df.bought_insurance, marker=\"+\", color=\"red\")"
   ],
   "metadata": {
    "collapsed": false
   }
  },
  {
   "cell_type": "code",
   "execution_count": 12,
   "outputs": [],
   "source": [
    "from sklearn.model_selection import train_test_split\n",
    "\n",
    "X = df[['age']]\n",
    "y = df['bought_insurance']\n",
    "X_train, X_test, y_train, y_test = train_test_split(X, y, test_size=0.1)"
   ],
   "metadata": {
    "collapsed": false
   }
  },
  {
   "cell_type": "code",
   "execution_count": 8,
   "outputs": [
    {
     "data": {
      "text/plain": "LogisticRegression()"
     },
     "execution_count": 8,
     "metadata": {},
     "output_type": "execute_result"
    }
   ],
   "source": [
    "from sklearn.linear_model import LogisticRegression\n",
    "\n",
    "m = LogisticRegression()\n",
    "m.fit(X_train, y_train)"
   ],
   "metadata": {
    "collapsed": false
   }
  },
  {
   "cell_type": "code",
   "execution_count": 16,
   "outputs": [
    {
     "data": {
      "text/plain": "    age\n10   18\n0    22\n15   55",
      "text/html": "<div>\n<style scoped>\n    .dataframe tbody tr th:only-of-type {\n        vertical-align: middle;\n    }\n\n    .dataframe tbody tr th {\n        vertical-align: top;\n    }\n\n    .dataframe thead th {\n        text-align: right;\n    }\n</style>\n<table border=\"1\" class=\"dataframe\">\n  <thead>\n    <tr style=\"text-align: right;\">\n      <th></th>\n      <th>age</th>\n    </tr>\n  </thead>\n  <tbody>\n    <tr>\n      <th>10</th>\n      <td>18</td>\n    </tr>\n    <tr>\n      <th>0</th>\n      <td>22</td>\n    </tr>\n    <tr>\n      <th>15</th>\n      <td>55</td>\n    </tr>\n  </tbody>\n</table>\n</div>"
     },
     "execution_count": 16,
     "metadata": {},
     "output_type": "execute_result"
    }
   ],
   "source": [
    "X_test"
   ],
   "metadata": {
    "collapsed": false
   }
  },
  {
   "cell_type": "code",
   "execution_count": 14,
   "outputs": [
    {
     "data": {
      "text/plain": "array([0, 0, 1])"
     },
     "execution_count": 14,
     "metadata": {},
     "output_type": "execute_result"
    }
   ],
   "source": [
    "m.predict(X_test)"
   ],
   "metadata": {
    "collapsed": false
   }
  },
  {
   "cell_type": "code",
   "execution_count": 13,
   "outputs": [
    {
     "data": {
      "text/plain": "1.0"
     },
     "execution_count": 13,
     "metadata": {},
     "output_type": "execute_result"
    }
   ],
   "source": [
    "m.score(X_test, y_test)"
   ],
   "metadata": {
    "collapsed": false
   }
  },
  {
   "cell_type": "code",
   "execution_count": 15,
   "outputs": [
    {
     "data": {
      "text/plain": "array([[0.92960603, 0.07039397],\n       [0.88922293, 0.11077707],\n       [0.11668242, 0.88331758]])"
     },
     "execution_count": 15,
     "metadata": {},
     "output_type": "execute_result"
    }
   ],
   "source": [
    "m.predict_proba(X_test)  # shows in 2 classes - 1st class will not buy the insurance, 2nd will buy"
   ],
   "metadata": {
    "collapsed": false
   }
  }
 ],
 "metadata": {
  "kernelspec": {
   "display_name": "Python 3",
   "language": "python",
   "name": "python3"
  },
  "language_info": {
   "codemirror_mode": {
    "name": "ipython",
    "version": 2
   },
   "file_extension": ".py",
   "mimetype": "text/x-python",
   "name": "python",
   "nbconvert_exporter": "python",
   "pygments_lexer": "ipython2",
   "version": "2.7.6"
  }
 },
 "nbformat": 4,
 "nbformat_minor": 0
}
