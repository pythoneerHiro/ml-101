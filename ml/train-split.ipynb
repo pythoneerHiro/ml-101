{
 "cells": [
  {
   "cell_type": "markdown",
   "source": [
    "<p><b>We have a dataset containing prices of used BMW cars. We are going to analyze this dataset\n",
    "and build a prediction function that can predict a price by taking mileage and age of the car\n",
    "as input. We will use sklearn train_test_split method to split training and testing dataset</b></p>"
   ],
   "metadata": {
    "collapsed": false
   }
  },
  {
   "cell_type": "code",
   "execution_count": 2,
   "outputs": [],
   "source": [
    "import pandas as pd"
   ],
   "metadata": {
    "collapsed": false
   }
  },
  {
   "cell_type": "code",
   "execution_count": 6,
   "outputs": [
    {
     "data": {
      "text/plain": "    Mileage  Age(yrs)  Sell Price($)\n0     69000         6          18000\n1     35000         3          34000\n2     57000         5          26100\n3     22500         2          40000\n4     46000         4          31500\n5     59000         5          26750\n6     52000         5          32000\n7     72000         6          19300\n8     91000         8          12000\n9     67000         6          22000\n10    83000         7          18700\n11    79000         7          19500\n12    59000         5          26000\n13    58780         4          27500\n14    82450         7          19400\n15    25400         3          35000\n16    28000         2          35500\n17    69000         5          19700\n18    87600         8          12800\n19    52000         5          28200",
      "text/html": "<div>\n<style scoped>\n    .dataframe tbody tr th:only-of-type {\n        vertical-align: middle;\n    }\n\n    .dataframe tbody tr th {\n        vertical-align: top;\n    }\n\n    .dataframe thead th {\n        text-align: right;\n    }\n</style>\n<table border=\"1\" class=\"dataframe\">\n  <thead>\n    <tr style=\"text-align: right;\">\n      <th></th>\n      <th>Mileage</th>\n      <th>Age(yrs)</th>\n      <th>Sell Price($)</th>\n    </tr>\n  </thead>\n  <tbody>\n    <tr>\n      <th>0</th>\n      <td>69000</td>\n      <td>6</td>\n      <td>18000</td>\n    </tr>\n    <tr>\n      <th>1</th>\n      <td>35000</td>\n      <td>3</td>\n      <td>34000</td>\n    </tr>\n    <tr>\n      <th>2</th>\n      <td>57000</td>\n      <td>5</td>\n      <td>26100</td>\n    </tr>\n    <tr>\n      <th>3</th>\n      <td>22500</td>\n      <td>2</td>\n      <td>40000</td>\n    </tr>\n    <tr>\n      <th>4</th>\n      <td>46000</td>\n      <td>4</td>\n      <td>31500</td>\n    </tr>\n    <tr>\n      <th>5</th>\n      <td>59000</td>\n      <td>5</td>\n      <td>26750</td>\n    </tr>\n    <tr>\n      <th>6</th>\n      <td>52000</td>\n      <td>5</td>\n      <td>32000</td>\n    </tr>\n    <tr>\n      <th>7</th>\n      <td>72000</td>\n      <td>6</td>\n      <td>19300</td>\n    </tr>\n    <tr>\n      <th>8</th>\n      <td>91000</td>\n      <td>8</td>\n      <td>12000</td>\n    </tr>\n    <tr>\n      <th>9</th>\n      <td>67000</td>\n      <td>6</td>\n      <td>22000</td>\n    </tr>\n    <tr>\n      <th>10</th>\n      <td>83000</td>\n      <td>7</td>\n      <td>18700</td>\n    </tr>\n    <tr>\n      <th>11</th>\n      <td>79000</td>\n      <td>7</td>\n      <td>19500</td>\n    </tr>\n    <tr>\n      <th>12</th>\n      <td>59000</td>\n      <td>5</td>\n      <td>26000</td>\n    </tr>\n    <tr>\n      <th>13</th>\n      <td>58780</td>\n      <td>4</td>\n      <td>27500</td>\n    </tr>\n    <tr>\n      <th>14</th>\n      <td>82450</td>\n      <td>7</td>\n      <td>19400</td>\n    </tr>\n    <tr>\n      <th>15</th>\n      <td>25400</td>\n      <td>3</td>\n      <td>35000</td>\n    </tr>\n    <tr>\n      <th>16</th>\n      <td>28000</td>\n      <td>2</td>\n      <td>35500</td>\n    </tr>\n    <tr>\n      <th>17</th>\n      <td>69000</td>\n      <td>5</td>\n      <td>19700</td>\n    </tr>\n    <tr>\n      <th>18</th>\n      <td>87600</td>\n      <td>8</td>\n      <td>12800</td>\n    </tr>\n    <tr>\n      <th>19</th>\n      <td>52000</td>\n      <td>5</td>\n      <td>28200</td>\n    </tr>\n  </tbody>\n</table>\n</div>"
     },
     "execution_count": 6,
     "metadata": {},
     "output_type": "execute_result"
    }
   ],
   "source": [
    "df = pd.read_csv('dataset/carprices.csv')\n",
    "df"
   ],
   "metadata": {
    "collapsed": false
   }
  },
  {
   "cell_type": "code",
   "execution_count": 18,
   "outputs": [],
   "source": [
    "y = df['Sell Price($)']\n",
    "X = df.drop('Sell Price($)', axis=1)"
   ],
   "metadata": {
    "collapsed": false
   }
  },
  {
   "cell_type": "code",
   "execution_count": 30,
   "outputs": [
    {
     "data": {
      "text/plain": "    Mileage  Age(yrs)\n3     22500         2\n18    87600         8\n13    58780         4\n2     57000         5\n14    82450         7\n8     91000         8\n17    69000         5\n16    28000         2\n19    52000         5\n12    59000         5\n11    79000         7\n1     35000         3\n0     69000         6\n15    25400         3\n4     46000         4\n9     67000         6",
      "text/html": "<div>\n<style scoped>\n    .dataframe tbody tr th:only-of-type {\n        vertical-align: middle;\n    }\n\n    .dataframe tbody tr th {\n        vertical-align: top;\n    }\n\n    .dataframe thead th {\n        text-align: right;\n    }\n</style>\n<table border=\"1\" class=\"dataframe\">\n  <thead>\n    <tr style=\"text-align: right;\">\n      <th></th>\n      <th>Mileage</th>\n      <th>Age(yrs)</th>\n    </tr>\n  </thead>\n  <tbody>\n    <tr>\n      <th>3</th>\n      <td>22500</td>\n      <td>2</td>\n    </tr>\n    <tr>\n      <th>18</th>\n      <td>87600</td>\n      <td>8</td>\n    </tr>\n    <tr>\n      <th>13</th>\n      <td>58780</td>\n      <td>4</td>\n    </tr>\n    <tr>\n      <th>2</th>\n      <td>57000</td>\n      <td>5</td>\n    </tr>\n    <tr>\n      <th>14</th>\n      <td>82450</td>\n      <td>7</td>\n    </tr>\n    <tr>\n      <th>8</th>\n      <td>91000</td>\n      <td>8</td>\n    </tr>\n    <tr>\n      <th>17</th>\n      <td>69000</td>\n      <td>5</td>\n    </tr>\n    <tr>\n      <th>16</th>\n      <td>28000</td>\n      <td>2</td>\n    </tr>\n    <tr>\n      <th>19</th>\n      <td>52000</td>\n      <td>5</td>\n    </tr>\n    <tr>\n      <th>12</th>\n      <td>59000</td>\n      <td>5</td>\n    </tr>\n    <tr>\n      <th>11</th>\n      <td>79000</td>\n      <td>7</td>\n    </tr>\n    <tr>\n      <th>1</th>\n      <td>35000</td>\n      <td>3</td>\n    </tr>\n    <tr>\n      <th>0</th>\n      <td>69000</td>\n      <td>6</td>\n    </tr>\n    <tr>\n      <th>15</th>\n      <td>25400</td>\n      <td>3</td>\n    </tr>\n    <tr>\n      <th>4</th>\n      <td>46000</td>\n      <td>4</td>\n    </tr>\n    <tr>\n      <th>9</th>\n      <td>67000</td>\n      <td>6</td>\n    </tr>\n  </tbody>\n</table>\n</div>"
     },
     "execution_count": 30,
     "metadata": {},
     "output_type": "execute_result"
    }
   ],
   "source": [
    "from sklearn.model_selection import train_test_split\n",
    "\n",
    "X_train, X_test, y_train, y_test = train_test_split(X, y, test_size=0.2, random_state=10)  #get constant\n",
    "X_train"
   ],
   "metadata": {
    "collapsed": false
   }
  },
  {
   "cell_type": "code",
   "execution_count": 32,
   "outputs": [
    {
     "data": {
      "text/plain": "LinearRegression()"
     },
     "execution_count": 32,
     "metadata": {},
     "output_type": "execute_result"
    }
   ],
   "source": [
    "from sklearn.linear_model import LinearRegression\n",
    "\n",
    "m = LinearRegression()\n",
    "m.fit(X_train, y_train)"
   ],
   "metadata": {
    "collapsed": false
   }
  },
  {
   "cell_type": "code",
   "execution_count": 37,
   "outputs": [
    {
     "data": {
      "text/plain": "0.7332339593090138"
     },
     "execution_count": 37,
     "metadata": {},
     "output_type": "execute_result"
    }
   ],
   "source": [
    "m.score(X_test, y_test)"
   ],
   "metadata": {
    "collapsed": false
   }
  },
  {
   "cell_type": "code",
   "execution_count": null,
   "outputs": [],
   "source": [],
   "metadata": {
    "collapsed": false
   }
  }
 ],
 "metadata": {
  "kernelspec": {
   "display_name": "Python 3",
   "language": "python",
   "name": "python3"
  },
  "language_info": {
   "codemirror_mode": {
    "name": "ipython",
    "version": 2
   },
   "file_extension": ".py",
   "mimetype": "text/x-python",
   "name": "python",
   "nbconvert_exporter": "python",
   "pygments_lexer": "ipython2",
   "version": "2.7.6"
  }
 },
 "nbformat": 4,
 "nbformat_minor": 0
}
