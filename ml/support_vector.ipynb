{
 "cells": [
  {
   "cell_type": "code",
   "execution_count": 23,
   "metadata": {
    "collapsed": true
   },
   "outputs": [
    {
     "data": {
      "text/plain": "['DESCR',\n 'data',\n 'data_module',\n 'feature_names',\n 'filename',\n 'frame',\n 'target',\n 'target_names']"
     },
     "execution_count": 23,
     "metadata": {},
     "output_type": "execute_result"
    }
   ],
   "source": [
    "import pandas as pd\n",
    "import matplotlib.pyplot as plt\n",
    "from sklearn.datasets import load_iris\n",
    "\n",
    "iris = load_iris()\n",
    "dir(iris)"
   ]
  },
  {
   "cell_type": "code",
   "execution_count": 24,
   "outputs": [
    {
     "data": {
      "text/plain": "['sepal length (cm)',\n 'sepal width (cm)',\n 'petal length (cm)',\n 'petal width (cm)']"
     },
     "execution_count": 24,
     "metadata": {},
     "output_type": "execute_result"
    }
   ],
   "source": [
    "iris.feature_names"
   ],
   "metadata": {
    "collapsed": false
   }
  },
  {
   "cell_type": "code",
   "execution_count": 25,
   "outputs": [
    {
     "data": {
      "text/plain": "     sepal length (cm)  sepal width (cm)  petal length (cm)  petal width (cm)  \\\n0                  5.1               3.5                1.4               0.2   \n1                  4.9               3.0                1.4               0.2   \n2                  4.7               3.2                1.3               0.2   \n3                  4.6               3.1                1.5               0.2   \n4                  5.0               3.6                1.4               0.2   \n..                 ...               ...                ...               ...   \n145                6.7               3.0                5.2               2.3   \n146                6.3               2.5                5.0               1.9   \n147                6.5               3.0                5.2               2.0   \n148                6.2               3.4                5.4               2.3   \n149                5.9               3.0                5.1               1.8   \n\n     target  \n0         0  \n1         0  \n2         0  \n3         0  \n4         0  \n..      ...  \n145       2  \n146       2  \n147       2  \n148       2  \n149       2  \n\n[150 rows x 5 columns]",
      "text/html": "<div>\n<style scoped>\n    .dataframe tbody tr th:only-of-type {\n        vertical-align: middle;\n    }\n\n    .dataframe tbody tr th {\n        vertical-align: top;\n    }\n\n    .dataframe thead th {\n        text-align: right;\n    }\n</style>\n<table border=\"1\" class=\"dataframe\">\n  <thead>\n    <tr style=\"text-align: right;\">\n      <th></th>\n      <th>sepal length (cm)</th>\n      <th>sepal width (cm)</th>\n      <th>petal length (cm)</th>\n      <th>petal width (cm)</th>\n      <th>target</th>\n    </tr>\n  </thead>\n  <tbody>\n    <tr>\n      <th>0</th>\n      <td>5.1</td>\n      <td>3.5</td>\n      <td>1.4</td>\n      <td>0.2</td>\n      <td>0</td>\n    </tr>\n    <tr>\n      <th>1</th>\n      <td>4.9</td>\n      <td>3.0</td>\n      <td>1.4</td>\n      <td>0.2</td>\n      <td>0</td>\n    </tr>\n    <tr>\n      <th>2</th>\n      <td>4.7</td>\n      <td>3.2</td>\n      <td>1.3</td>\n      <td>0.2</td>\n      <td>0</td>\n    </tr>\n    <tr>\n      <th>3</th>\n      <td>4.6</td>\n      <td>3.1</td>\n      <td>1.5</td>\n      <td>0.2</td>\n      <td>0</td>\n    </tr>\n    <tr>\n      <th>4</th>\n      <td>5.0</td>\n      <td>3.6</td>\n      <td>1.4</td>\n      <td>0.2</td>\n      <td>0</td>\n    </tr>\n    <tr>\n      <th>...</th>\n      <td>...</td>\n      <td>...</td>\n      <td>...</td>\n      <td>...</td>\n      <td>...</td>\n    </tr>\n    <tr>\n      <th>145</th>\n      <td>6.7</td>\n      <td>3.0</td>\n      <td>5.2</td>\n      <td>2.3</td>\n      <td>2</td>\n    </tr>\n    <tr>\n      <th>146</th>\n      <td>6.3</td>\n      <td>2.5</td>\n      <td>5.0</td>\n      <td>1.9</td>\n      <td>2</td>\n    </tr>\n    <tr>\n      <th>147</th>\n      <td>6.5</td>\n      <td>3.0</td>\n      <td>5.2</td>\n      <td>2.0</td>\n      <td>2</td>\n    </tr>\n    <tr>\n      <th>148</th>\n      <td>6.2</td>\n      <td>3.4</td>\n      <td>5.4</td>\n      <td>2.3</td>\n      <td>2</td>\n    </tr>\n    <tr>\n      <th>149</th>\n      <td>5.9</td>\n      <td>3.0</td>\n      <td>5.1</td>\n      <td>1.8</td>\n      <td>2</td>\n    </tr>\n  </tbody>\n</table>\n<p>150 rows × 5 columns</p>\n</div>"
     },
     "execution_count": 25,
     "metadata": {},
     "output_type": "execute_result"
    }
   ],
   "source": [
    "df = pd.DataFrame(iris.data)\n",
    "df.columns = iris.feature_names\n",
    "df['target'] = iris.target\n",
    "df"
   ],
   "metadata": {
    "collapsed": false
   }
  },
  {
   "cell_type": "code",
   "execution_count": 26,
   "outputs": [
    {
     "data": {
      "text/plain": "array(['setosa', 'versicolor', 'virginica'], dtype='<U10')"
     },
     "execution_count": 26,
     "metadata": {},
     "output_type": "execute_result"
    }
   ],
   "source": [
    "iris.target_names"
   ],
   "metadata": {
    "collapsed": false
   }
  },
  {
   "cell_type": "code",
   "execution_count": 27,
   "outputs": [
    {
     "data": {
      "text/plain": "     sepal length (cm)  sepal width (cm)  petal length (cm)  petal width (cm)  \\\n0                  5.1               3.5                1.4               0.2   \n1                  4.9               3.0                1.4               0.2   \n2                  4.7               3.2                1.3               0.2   \n3                  4.6               3.1                1.5               0.2   \n4                  5.0               3.6                1.4               0.2   \n..                 ...               ...                ...               ...   \n145                6.7               3.0                5.2               2.3   \n146                6.3               2.5                5.0               1.9   \n147                6.5               3.0                5.2               2.0   \n148                6.2               3.4                5.4               2.3   \n149                5.9               3.0                5.1               1.8   \n\n     target flower_name  \n0         0      setosa  \n1         0      setosa  \n2         0      setosa  \n3         0      setosa  \n4         0      setosa  \n..      ...         ...  \n145       2   virginica  \n146       2   virginica  \n147       2   virginica  \n148       2   virginica  \n149       2   virginica  \n\n[150 rows x 6 columns]",
      "text/html": "<div>\n<style scoped>\n    .dataframe tbody tr th:only-of-type {\n        vertical-align: middle;\n    }\n\n    .dataframe tbody tr th {\n        vertical-align: top;\n    }\n\n    .dataframe thead th {\n        text-align: right;\n    }\n</style>\n<table border=\"1\" class=\"dataframe\">\n  <thead>\n    <tr style=\"text-align: right;\">\n      <th></th>\n      <th>sepal length (cm)</th>\n      <th>sepal width (cm)</th>\n      <th>petal length (cm)</th>\n      <th>petal width (cm)</th>\n      <th>target</th>\n      <th>flower_name</th>\n    </tr>\n  </thead>\n  <tbody>\n    <tr>\n      <th>0</th>\n      <td>5.1</td>\n      <td>3.5</td>\n      <td>1.4</td>\n      <td>0.2</td>\n      <td>0</td>\n      <td>setosa</td>\n    </tr>\n    <tr>\n      <th>1</th>\n      <td>4.9</td>\n      <td>3.0</td>\n      <td>1.4</td>\n      <td>0.2</td>\n      <td>0</td>\n      <td>setosa</td>\n    </tr>\n    <tr>\n      <th>2</th>\n      <td>4.7</td>\n      <td>3.2</td>\n      <td>1.3</td>\n      <td>0.2</td>\n      <td>0</td>\n      <td>setosa</td>\n    </tr>\n    <tr>\n      <th>3</th>\n      <td>4.6</td>\n      <td>3.1</td>\n      <td>1.5</td>\n      <td>0.2</td>\n      <td>0</td>\n      <td>setosa</td>\n    </tr>\n    <tr>\n      <th>4</th>\n      <td>5.0</td>\n      <td>3.6</td>\n      <td>1.4</td>\n      <td>0.2</td>\n      <td>0</td>\n      <td>setosa</td>\n    </tr>\n    <tr>\n      <th>...</th>\n      <td>...</td>\n      <td>...</td>\n      <td>...</td>\n      <td>...</td>\n      <td>...</td>\n      <td>...</td>\n    </tr>\n    <tr>\n      <th>145</th>\n      <td>6.7</td>\n      <td>3.0</td>\n      <td>5.2</td>\n      <td>2.3</td>\n      <td>2</td>\n      <td>virginica</td>\n    </tr>\n    <tr>\n      <th>146</th>\n      <td>6.3</td>\n      <td>2.5</td>\n      <td>5.0</td>\n      <td>1.9</td>\n      <td>2</td>\n      <td>virginica</td>\n    </tr>\n    <tr>\n      <th>147</th>\n      <td>6.5</td>\n      <td>3.0</td>\n      <td>5.2</td>\n      <td>2.0</td>\n      <td>2</td>\n      <td>virginica</td>\n    </tr>\n    <tr>\n      <th>148</th>\n      <td>6.2</td>\n      <td>3.4</td>\n      <td>5.4</td>\n      <td>2.3</td>\n      <td>2</td>\n      <td>virginica</td>\n    </tr>\n    <tr>\n      <th>149</th>\n      <td>5.9</td>\n      <td>3.0</td>\n      <td>5.1</td>\n      <td>1.8</td>\n      <td>2</td>\n      <td>virginica</td>\n    </tr>\n  </tbody>\n</table>\n<p>150 rows × 6 columns</p>\n</div>"
     },
     "execution_count": 27,
     "metadata": {},
     "output_type": "execute_result"
    }
   ],
   "source": [
    "df[\"flower_name\"] = df[\"target\"].apply(lambda x: iris.target_names[x])\n",
    "\n",
    "df"
   ],
   "metadata": {
    "collapsed": false
   }
  },
  {
   "cell_type": "code",
   "execution_count": 28,
   "outputs": [
    {
     "data": {
      "text/plain": "    sepal length (cm)  sepal width (cm)  petal length (cm)  petal width (cm)  \\\n50                7.0               3.2                4.7               1.4   \n51                6.4               3.2                4.5               1.5   \n52                6.9               3.1                4.9               1.5   \n53                5.5               2.3                4.0               1.3   \n54                6.5               2.8                4.6               1.5   \n55                5.7               2.8                4.5               1.3   \n56                6.3               3.3                4.7               1.6   \n57                4.9               2.4                3.3               1.0   \n58                6.6               2.9                4.6               1.3   \n59                5.2               2.7                3.9               1.4   \n60                5.0               2.0                3.5               1.0   \n61                5.9               3.0                4.2               1.5   \n62                6.0               2.2                4.0               1.0   \n63                6.1               2.9                4.7               1.4   \n64                5.6               2.9                3.6               1.3   \n65                6.7               3.1                4.4               1.4   \n66                5.6               3.0                4.5               1.5   \n67                5.8               2.7                4.1               1.0   \n68                6.2               2.2                4.5               1.5   \n69                5.6               2.5                3.9               1.1   \n70                5.9               3.2                4.8               1.8   \n71                6.1               2.8                4.0               1.3   \n72                6.3               2.5                4.9               1.5   \n73                6.1               2.8                4.7               1.2   \n74                6.4               2.9                4.3               1.3   \n75                6.6               3.0                4.4               1.4   \n76                6.8               2.8                4.8               1.4   \n77                6.7               3.0                5.0               1.7   \n78                6.0               2.9                4.5               1.5   \n79                5.7               2.6                3.5               1.0   \n80                5.5               2.4                3.8               1.1   \n81                5.5               2.4                3.7               1.0   \n82                5.8               2.7                3.9               1.2   \n83                6.0               2.7                5.1               1.6   \n84                5.4               3.0                4.5               1.5   \n85                6.0               3.4                4.5               1.6   \n86                6.7               3.1                4.7               1.5   \n87                6.3               2.3                4.4               1.3   \n88                5.6               3.0                4.1               1.3   \n89                5.5               2.5                4.0               1.3   \n90                5.5               2.6                4.4               1.2   \n91                6.1               3.0                4.6               1.4   \n92                5.8               2.6                4.0               1.2   \n93                5.0               2.3                3.3               1.0   \n94                5.6               2.7                4.2               1.3   \n95                5.7               3.0                4.2               1.2   \n96                5.7               2.9                4.2               1.3   \n97                6.2               2.9                4.3               1.3   \n98                5.1               2.5                3.0               1.1   \n99                5.7               2.8                4.1               1.3   \n\n    target flower_name  \n50       1  versicolor  \n51       1  versicolor  \n52       1  versicolor  \n53       1  versicolor  \n54       1  versicolor  \n55       1  versicolor  \n56       1  versicolor  \n57       1  versicolor  \n58       1  versicolor  \n59       1  versicolor  \n60       1  versicolor  \n61       1  versicolor  \n62       1  versicolor  \n63       1  versicolor  \n64       1  versicolor  \n65       1  versicolor  \n66       1  versicolor  \n67       1  versicolor  \n68       1  versicolor  \n69       1  versicolor  \n70       1  versicolor  \n71       1  versicolor  \n72       1  versicolor  \n73       1  versicolor  \n74       1  versicolor  \n75       1  versicolor  \n76       1  versicolor  \n77       1  versicolor  \n78       1  versicolor  \n79       1  versicolor  \n80       1  versicolor  \n81       1  versicolor  \n82       1  versicolor  \n83       1  versicolor  \n84       1  versicolor  \n85       1  versicolor  \n86       1  versicolor  \n87       1  versicolor  \n88       1  versicolor  \n89       1  versicolor  \n90       1  versicolor  \n91       1  versicolor  \n92       1  versicolor  \n93       1  versicolor  \n94       1  versicolor  \n95       1  versicolor  \n96       1  versicolor  \n97       1  versicolor  \n98       1  versicolor  \n99       1  versicolor  ",
      "text/html": "<div>\n<style scoped>\n    .dataframe tbody tr th:only-of-type {\n        vertical-align: middle;\n    }\n\n    .dataframe tbody tr th {\n        vertical-align: top;\n    }\n\n    .dataframe thead th {\n        text-align: right;\n    }\n</style>\n<table border=\"1\" class=\"dataframe\">\n  <thead>\n    <tr style=\"text-align: right;\">\n      <th></th>\n      <th>sepal length (cm)</th>\n      <th>sepal width (cm)</th>\n      <th>petal length (cm)</th>\n      <th>petal width (cm)</th>\n      <th>target</th>\n      <th>flower_name</th>\n    </tr>\n  </thead>\n  <tbody>\n    <tr>\n      <th>50</th>\n      <td>7.0</td>\n      <td>3.2</td>\n      <td>4.7</td>\n      <td>1.4</td>\n      <td>1</td>\n      <td>versicolor</td>\n    </tr>\n    <tr>\n      <th>51</th>\n      <td>6.4</td>\n      <td>3.2</td>\n      <td>4.5</td>\n      <td>1.5</td>\n      <td>1</td>\n      <td>versicolor</td>\n    </tr>\n    <tr>\n      <th>52</th>\n      <td>6.9</td>\n      <td>3.1</td>\n      <td>4.9</td>\n      <td>1.5</td>\n      <td>1</td>\n      <td>versicolor</td>\n    </tr>\n    <tr>\n      <th>53</th>\n      <td>5.5</td>\n      <td>2.3</td>\n      <td>4.0</td>\n      <td>1.3</td>\n      <td>1</td>\n      <td>versicolor</td>\n    </tr>\n    <tr>\n      <th>54</th>\n      <td>6.5</td>\n      <td>2.8</td>\n      <td>4.6</td>\n      <td>1.5</td>\n      <td>1</td>\n      <td>versicolor</td>\n    </tr>\n    <tr>\n      <th>55</th>\n      <td>5.7</td>\n      <td>2.8</td>\n      <td>4.5</td>\n      <td>1.3</td>\n      <td>1</td>\n      <td>versicolor</td>\n    </tr>\n    <tr>\n      <th>56</th>\n      <td>6.3</td>\n      <td>3.3</td>\n      <td>4.7</td>\n      <td>1.6</td>\n      <td>1</td>\n      <td>versicolor</td>\n    </tr>\n    <tr>\n      <th>57</th>\n      <td>4.9</td>\n      <td>2.4</td>\n      <td>3.3</td>\n      <td>1.0</td>\n      <td>1</td>\n      <td>versicolor</td>\n    </tr>\n    <tr>\n      <th>58</th>\n      <td>6.6</td>\n      <td>2.9</td>\n      <td>4.6</td>\n      <td>1.3</td>\n      <td>1</td>\n      <td>versicolor</td>\n    </tr>\n    <tr>\n      <th>59</th>\n      <td>5.2</td>\n      <td>2.7</td>\n      <td>3.9</td>\n      <td>1.4</td>\n      <td>1</td>\n      <td>versicolor</td>\n    </tr>\n    <tr>\n      <th>60</th>\n      <td>5.0</td>\n      <td>2.0</td>\n      <td>3.5</td>\n      <td>1.0</td>\n      <td>1</td>\n      <td>versicolor</td>\n    </tr>\n    <tr>\n      <th>61</th>\n      <td>5.9</td>\n      <td>3.0</td>\n      <td>4.2</td>\n      <td>1.5</td>\n      <td>1</td>\n      <td>versicolor</td>\n    </tr>\n    <tr>\n      <th>62</th>\n      <td>6.0</td>\n      <td>2.2</td>\n      <td>4.0</td>\n      <td>1.0</td>\n      <td>1</td>\n      <td>versicolor</td>\n    </tr>\n    <tr>\n      <th>63</th>\n      <td>6.1</td>\n      <td>2.9</td>\n      <td>4.7</td>\n      <td>1.4</td>\n      <td>1</td>\n      <td>versicolor</td>\n    </tr>\n    <tr>\n      <th>64</th>\n      <td>5.6</td>\n      <td>2.9</td>\n      <td>3.6</td>\n      <td>1.3</td>\n      <td>1</td>\n      <td>versicolor</td>\n    </tr>\n    <tr>\n      <th>65</th>\n      <td>6.7</td>\n      <td>3.1</td>\n      <td>4.4</td>\n      <td>1.4</td>\n      <td>1</td>\n      <td>versicolor</td>\n    </tr>\n    <tr>\n      <th>66</th>\n      <td>5.6</td>\n      <td>3.0</td>\n      <td>4.5</td>\n      <td>1.5</td>\n      <td>1</td>\n      <td>versicolor</td>\n    </tr>\n    <tr>\n      <th>67</th>\n      <td>5.8</td>\n      <td>2.7</td>\n      <td>4.1</td>\n      <td>1.0</td>\n      <td>1</td>\n      <td>versicolor</td>\n    </tr>\n    <tr>\n      <th>68</th>\n      <td>6.2</td>\n      <td>2.2</td>\n      <td>4.5</td>\n      <td>1.5</td>\n      <td>1</td>\n      <td>versicolor</td>\n    </tr>\n    <tr>\n      <th>69</th>\n      <td>5.6</td>\n      <td>2.5</td>\n      <td>3.9</td>\n      <td>1.1</td>\n      <td>1</td>\n      <td>versicolor</td>\n    </tr>\n    <tr>\n      <th>70</th>\n      <td>5.9</td>\n      <td>3.2</td>\n      <td>4.8</td>\n      <td>1.8</td>\n      <td>1</td>\n      <td>versicolor</td>\n    </tr>\n    <tr>\n      <th>71</th>\n      <td>6.1</td>\n      <td>2.8</td>\n      <td>4.0</td>\n      <td>1.3</td>\n      <td>1</td>\n      <td>versicolor</td>\n    </tr>\n    <tr>\n      <th>72</th>\n      <td>6.3</td>\n      <td>2.5</td>\n      <td>4.9</td>\n      <td>1.5</td>\n      <td>1</td>\n      <td>versicolor</td>\n    </tr>\n    <tr>\n      <th>73</th>\n      <td>6.1</td>\n      <td>2.8</td>\n      <td>4.7</td>\n      <td>1.2</td>\n      <td>1</td>\n      <td>versicolor</td>\n    </tr>\n    <tr>\n      <th>74</th>\n      <td>6.4</td>\n      <td>2.9</td>\n      <td>4.3</td>\n      <td>1.3</td>\n      <td>1</td>\n      <td>versicolor</td>\n    </tr>\n    <tr>\n      <th>75</th>\n      <td>6.6</td>\n      <td>3.0</td>\n      <td>4.4</td>\n      <td>1.4</td>\n      <td>1</td>\n      <td>versicolor</td>\n    </tr>\n    <tr>\n      <th>76</th>\n      <td>6.8</td>\n      <td>2.8</td>\n      <td>4.8</td>\n      <td>1.4</td>\n      <td>1</td>\n      <td>versicolor</td>\n    </tr>\n    <tr>\n      <th>77</th>\n      <td>6.7</td>\n      <td>3.0</td>\n      <td>5.0</td>\n      <td>1.7</td>\n      <td>1</td>\n      <td>versicolor</td>\n    </tr>\n    <tr>\n      <th>78</th>\n      <td>6.0</td>\n      <td>2.9</td>\n      <td>4.5</td>\n      <td>1.5</td>\n      <td>1</td>\n      <td>versicolor</td>\n    </tr>\n    <tr>\n      <th>79</th>\n      <td>5.7</td>\n      <td>2.6</td>\n      <td>3.5</td>\n      <td>1.0</td>\n      <td>1</td>\n      <td>versicolor</td>\n    </tr>\n    <tr>\n      <th>80</th>\n      <td>5.5</td>\n      <td>2.4</td>\n      <td>3.8</td>\n      <td>1.1</td>\n      <td>1</td>\n      <td>versicolor</td>\n    </tr>\n    <tr>\n      <th>81</th>\n      <td>5.5</td>\n      <td>2.4</td>\n      <td>3.7</td>\n      <td>1.0</td>\n      <td>1</td>\n      <td>versicolor</td>\n    </tr>\n    <tr>\n      <th>82</th>\n      <td>5.8</td>\n      <td>2.7</td>\n      <td>3.9</td>\n      <td>1.2</td>\n      <td>1</td>\n      <td>versicolor</td>\n    </tr>\n    <tr>\n      <th>83</th>\n      <td>6.0</td>\n      <td>2.7</td>\n      <td>5.1</td>\n      <td>1.6</td>\n      <td>1</td>\n      <td>versicolor</td>\n    </tr>\n    <tr>\n      <th>84</th>\n      <td>5.4</td>\n      <td>3.0</td>\n      <td>4.5</td>\n      <td>1.5</td>\n      <td>1</td>\n      <td>versicolor</td>\n    </tr>\n    <tr>\n      <th>85</th>\n      <td>6.0</td>\n      <td>3.4</td>\n      <td>4.5</td>\n      <td>1.6</td>\n      <td>1</td>\n      <td>versicolor</td>\n    </tr>\n    <tr>\n      <th>86</th>\n      <td>6.7</td>\n      <td>3.1</td>\n      <td>4.7</td>\n      <td>1.5</td>\n      <td>1</td>\n      <td>versicolor</td>\n    </tr>\n    <tr>\n      <th>87</th>\n      <td>6.3</td>\n      <td>2.3</td>\n      <td>4.4</td>\n      <td>1.3</td>\n      <td>1</td>\n      <td>versicolor</td>\n    </tr>\n    <tr>\n      <th>88</th>\n      <td>5.6</td>\n      <td>3.0</td>\n      <td>4.1</td>\n      <td>1.3</td>\n      <td>1</td>\n      <td>versicolor</td>\n    </tr>\n    <tr>\n      <th>89</th>\n      <td>5.5</td>\n      <td>2.5</td>\n      <td>4.0</td>\n      <td>1.3</td>\n      <td>1</td>\n      <td>versicolor</td>\n    </tr>\n    <tr>\n      <th>90</th>\n      <td>5.5</td>\n      <td>2.6</td>\n      <td>4.4</td>\n      <td>1.2</td>\n      <td>1</td>\n      <td>versicolor</td>\n    </tr>\n    <tr>\n      <th>91</th>\n      <td>6.1</td>\n      <td>3.0</td>\n      <td>4.6</td>\n      <td>1.4</td>\n      <td>1</td>\n      <td>versicolor</td>\n    </tr>\n    <tr>\n      <th>92</th>\n      <td>5.8</td>\n      <td>2.6</td>\n      <td>4.0</td>\n      <td>1.2</td>\n      <td>1</td>\n      <td>versicolor</td>\n    </tr>\n    <tr>\n      <th>93</th>\n      <td>5.0</td>\n      <td>2.3</td>\n      <td>3.3</td>\n      <td>1.0</td>\n      <td>1</td>\n      <td>versicolor</td>\n    </tr>\n    <tr>\n      <th>94</th>\n      <td>5.6</td>\n      <td>2.7</td>\n      <td>4.2</td>\n      <td>1.3</td>\n      <td>1</td>\n      <td>versicolor</td>\n    </tr>\n    <tr>\n      <th>95</th>\n      <td>5.7</td>\n      <td>3.0</td>\n      <td>4.2</td>\n      <td>1.2</td>\n      <td>1</td>\n      <td>versicolor</td>\n    </tr>\n    <tr>\n      <th>96</th>\n      <td>5.7</td>\n      <td>2.9</td>\n      <td>4.2</td>\n      <td>1.3</td>\n      <td>1</td>\n      <td>versicolor</td>\n    </tr>\n    <tr>\n      <th>97</th>\n      <td>6.2</td>\n      <td>2.9</td>\n      <td>4.3</td>\n      <td>1.3</td>\n      <td>1</td>\n      <td>versicolor</td>\n    </tr>\n    <tr>\n      <th>98</th>\n      <td>5.1</td>\n      <td>2.5</td>\n      <td>3.0</td>\n      <td>1.1</td>\n      <td>1</td>\n      <td>versicolor</td>\n    </tr>\n    <tr>\n      <th>99</th>\n      <td>5.7</td>\n      <td>2.8</td>\n      <td>4.1</td>\n      <td>1.3</td>\n      <td>1</td>\n      <td>versicolor</td>\n    </tr>\n  </tbody>\n</table>\n</div>"
     },
     "execution_count": 28,
     "metadata": {},
     "output_type": "execute_result"
    }
   ],
   "source": [
    "df[df.target == 1]"
   ],
   "metadata": {
    "collapsed": false
   }
  },
  {
   "cell_type": "code",
   "execution_count": 29,
   "outputs": [],
   "source": [
    "% matplotlib inline"
   ],
   "metadata": {
    "collapsed": false
   }
  },
  {
   "cell_type": "code",
   "execution_count": 30,
   "outputs": [
    {
     "data": {
      "text/plain": "['DESCR',\n 'data',\n 'data_module',\n 'feature_names',\n 'filename',\n 'frame',\n 'target',\n 'target_names']"
     },
     "execution_count": 30,
     "metadata": {},
     "output_type": "execute_result"
    }
   ],
   "source": [
    "import pandas as pd\n",
    "import matplotlib.pyplot as plt\n",
    "from sklearn.datasets import load_iris\n",
    "\n",
    "iris = load_iris()\n",
    "dir(iris)"
   ],
   "metadata": {
    "collapsed": false
   }
  },
  {
   "cell_type": "code",
   "execution_count": 31,
   "outputs": [
    {
     "data": {
      "text/plain": "['sepal length (cm)',\n 'sepal width (cm)',\n 'petal length (cm)',\n 'petal width (cm)']"
     },
     "execution_count": 31,
     "metadata": {},
     "output_type": "execute_result"
    }
   ],
   "source": [
    "iris.feature_names"
   ],
   "metadata": {
    "collapsed": false
   }
  },
  {
   "cell_type": "code",
   "execution_count": 32,
   "outputs": [
    {
     "data": {
      "text/plain": "     sepal length (cm)  sepal width (cm)  petal length (cm)  petal width (cm)  \\\n0                  5.1               3.5                1.4               0.2   \n1                  4.9               3.0                1.4               0.2   \n2                  4.7               3.2                1.3               0.2   \n3                  4.6               3.1                1.5               0.2   \n4                  5.0               3.6                1.4               0.2   \n..                 ...               ...                ...               ...   \n145                6.7               3.0                5.2               2.3   \n146                6.3               2.5                5.0               1.9   \n147                6.5               3.0                5.2               2.0   \n148                6.2               3.4                5.4               2.3   \n149                5.9               3.0                5.1               1.8   \n\n     target  \n0         0  \n1         0  \n2         0  \n3         0  \n4         0  \n..      ...  \n145       2  \n146       2  \n147       2  \n148       2  \n149       2  \n\n[150 rows x 5 columns]",
      "text/html": "<div>\n<style scoped>\n    .dataframe tbody tr th:only-of-type {\n        vertical-align: middle;\n    }\n\n    .dataframe tbody tr th {\n        vertical-align: top;\n    }\n\n    .dataframe thead th {\n        text-align: right;\n    }\n</style>\n<table border=\"1\" class=\"dataframe\">\n  <thead>\n    <tr style=\"text-align: right;\">\n      <th></th>\n      <th>sepal length (cm)</th>\n      <th>sepal width (cm)</th>\n      <th>petal length (cm)</th>\n      <th>petal width (cm)</th>\n      <th>target</th>\n    </tr>\n  </thead>\n  <tbody>\n    <tr>\n      <th>0</th>\n      <td>5.1</td>\n      <td>3.5</td>\n      <td>1.4</td>\n      <td>0.2</td>\n      <td>0</td>\n    </tr>\n    <tr>\n      <th>1</th>\n      <td>4.9</td>\n      <td>3.0</td>\n      <td>1.4</td>\n      <td>0.2</td>\n      <td>0</td>\n    </tr>\n    <tr>\n      <th>2</th>\n      <td>4.7</td>\n      <td>3.2</td>\n      <td>1.3</td>\n      <td>0.2</td>\n      <td>0</td>\n    </tr>\n    <tr>\n      <th>3</th>\n      <td>4.6</td>\n      <td>3.1</td>\n      <td>1.5</td>\n      <td>0.2</td>\n      <td>0</td>\n    </tr>\n    <tr>\n      <th>4</th>\n      <td>5.0</td>\n      <td>3.6</td>\n      <td>1.4</td>\n      <td>0.2</td>\n      <td>0</td>\n    </tr>\n    <tr>\n      <th>...</th>\n      <td>...</td>\n      <td>...</td>\n      <td>...</td>\n      <td>...</td>\n      <td>...</td>\n    </tr>\n    <tr>\n      <th>145</th>\n      <td>6.7</td>\n      <td>3.0</td>\n      <td>5.2</td>\n      <td>2.3</td>\n      <td>2</td>\n    </tr>\n    <tr>\n      <th>146</th>\n      <td>6.3</td>\n      <td>2.5</td>\n      <td>5.0</td>\n      <td>1.9</td>\n      <td>2</td>\n    </tr>\n    <tr>\n      <th>147</th>\n      <td>6.5</td>\n      <td>3.0</td>\n      <td>5.2</td>\n      <td>2.0</td>\n      <td>2</td>\n    </tr>\n    <tr>\n      <th>148</th>\n      <td>6.2</td>\n      <td>3.4</td>\n      <td>5.4</td>\n      <td>2.3</td>\n      <td>2</td>\n    </tr>\n    <tr>\n      <th>149</th>\n      <td>5.9</td>\n      <td>3.0</td>\n      <td>5.1</td>\n      <td>1.8</td>\n      <td>2</td>\n    </tr>\n  </tbody>\n</table>\n<p>150 rows × 5 columns</p>\n</div>"
     },
     "execution_count": 32,
     "metadata": {},
     "output_type": "execute_result"
    }
   ],
   "source": [
    "df = pd.DataFrame(iris.data)\n",
    "df.columns = iris.feature_names\n",
    "df['target'] = iris.target\n",
    "df"
   ],
   "metadata": {
    "collapsed": false
   }
  },
  {
   "cell_type": "code",
   "execution_count": 33,
   "outputs": [
    {
     "data": {
      "text/plain": "array(['setosa', 'versicolor', 'virginica'], dtype='<U10')"
     },
     "execution_count": 33,
     "metadata": {},
     "output_type": "execute_result"
    }
   ],
   "source": [
    "iris.target_names"
   ],
   "metadata": {
    "collapsed": false
   }
  },
  {
   "cell_type": "code",
   "execution_count": 34,
   "outputs": [
    {
     "data": {
      "text/plain": "     sepal length (cm)  sepal width (cm)  petal length (cm)  petal width (cm)  \\\n0                  5.1               3.5                1.4               0.2   \n1                  4.9               3.0                1.4               0.2   \n2                  4.7               3.2                1.3               0.2   \n3                  4.6               3.1                1.5               0.2   \n4                  5.0               3.6                1.4               0.2   \n..                 ...               ...                ...               ...   \n145                6.7               3.0                5.2               2.3   \n146                6.3               2.5                5.0               1.9   \n147                6.5               3.0                5.2               2.0   \n148                6.2               3.4                5.4               2.3   \n149                5.9               3.0                5.1               1.8   \n\n     target flower_name  \n0         0      setosa  \n1         0      setosa  \n2         0      setosa  \n3         0      setosa  \n4         0      setosa  \n..      ...         ...  \n145       2   virginica  \n146       2   virginica  \n147       2   virginica  \n148       2   virginica  \n149       2   virginica  \n\n[150 rows x 6 columns]",
      "text/html": "<div>\n<style scoped>\n    .dataframe tbody tr th:only-of-type {\n        vertical-align: middle;\n    }\n\n    .dataframe tbody tr th {\n        vertical-align: top;\n    }\n\n    .dataframe thead th {\n        text-align: right;\n    }\n</style>\n<table border=\"1\" class=\"dataframe\">\n  <thead>\n    <tr style=\"text-align: right;\">\n      <th></th>\n      <th>sepal length (cm)</th>\n      <th>sepal width (cm)</th>\n      <th>petal length (cm)</th>\n      <th>petal width (cm)</th>\n      <th>target</th>\n      <th>flower_name</th>\n    </tr>\n  </thead>\n  <tbody>\n    <tr>\n      <th>0</th>\n      <td>5.1</td>\n      <td>3.5</td>\n      <td>1.4</td>\n      <td>0.2</td>\n      <td>0</td>\n      <td>setosa</td>\n    </tr>\n    <tr>\n      <th>1</th>\n      <td>4.9</td>\n      <td>3.0</td>\n      <td>1.4</td>\n      <td>0.2</td>\n      <td>0</td>\n      <td>setosa</td>\n    </tr>\n    <tr>\n      <th>2</th>\n      <td>4.7</td>\n      <td>3.2</td>\n      <td>1.3</td>\n      <td>0.2</td>\n      <td>0</td>\n      <td>setosa</td>\n    </tr>\n    <tr>\n      <th>3</th>\n      <td>4.6</td>\n      <td>3.1</td>\n      <td>1.5</td>\n      <td>0.2</td>\n      <td>0</td>\n      <td>setosa</td>\n    </tr>\n    <tr>\n      <th>4</th>\n      <td>5.0</td>\n      <td>3.6</td>\n      <td>1.4</td>\n      <td>0.2</td>\n      <td>0</td>\n      <td>setosa</td>\n    </tr>\n    <tr>\n      <th>...</th>\n      <td>...</td>\n      <td>...</td>\n      <td>...</td>\n      <td>...</td>\n      <td>...</td>\n      <td>...</td>\n    </tr>\n    <tr>\n      <th>145</th>\n      <td>6.7</td>\n      <td>3.0</td>\n      <td>5.2</td>\n      <td>2.3</td>\n      <td>2</td>\n      <td>virginica</td>\n    </tr>\n    <tr>\n      <th>146</th>\n      <td>6.3</td>\n      <td>2.5</td>\n      <td>5.0</td>\n      <td>1.9</td>\n      <td>2</td>\n      <td>virginica</td>\n    </tr>\n    <tr>\n      <th>147</th>\n      <td>6.5</td>\n      <td>3.0</td>\n      <td>5.2</td>\n      <td>2.0</td>\n      <td>2</td>\n      <td>virginica</td>\n    </tr>\n    <tr>\n      <th>148</th>\n      <td>6.2</td>\n      <td>3.4</td>\n      <td>5.4</td>\n      <td>2.3</td>\n      <td>2</td>\n      <td>virginica</td>\n    </tr>\n    <tr>\n      <th>149</th>\n      <td>5.9</td>\n      <td>3.0</td>\n      <td>5.1</td>\n      <td>1.8</td>\n      <td>2</td>\n      <td>virginica</td>\n    </tr>\n  </tbody>\n</table>\n<p>150 rows × 6 columns</p>\n</div>"
     },
     "execution_count": 34,
     "metadata": {},
     "output_type": "execute_result"
    }
   ],
   "source": [
    "df[\"flower_name\"] = df[\"target\"].apply(lambda x: iris.target_names[x])\n",
    "\n",
    "df"
   ],
   "metadata": {
    "collapsed": false
   }
  },
  {
   "cell_type": "code",
   "execution_count": 35,
   "outputs": [
    {
     "data": {
      "text/plain": "    sepal length (cm)  sepal width (cm)  petal length (cm)  petal width (cm)  \\\n50                7.0               3.2                4.7               1.4   \n51                6.4               3.2                4.5               1.5   \n52                6.9               3.1                4.9               1.5   \n53                5.5               2.3                4.0               1.3   \n54                6.5               2.8                4.6               1.5   \n55                5.7               2.8                4.5               1.3   \n56                6.3               3.3                4.7               1.6   \n57                4.9               2.4                3.3               1.0   \n58                6.6               2.9                4.6               1.3   \n59                5.2               2.7                3.9               1.4   \n60                5.0               2.0                3.5               1.0   \n61                5.9               3.0                4.2               1.5   \n62                6.0               2.2                4.0               1.0   \n63                6.1               2.9                4.7               1.4   \n64                5.6               2.9                3.6               1.3   \n65                6.7               3.1                4.4               1.4   \n66                5.6               3.0                4.5               1.5   \n67                5.8               2.7                4.1               1.0   \n68                6.2               2.2                4.5               1.5   \n69                5.6               2.5                3.9               1.1   \n70                5.9               3.2                4.8               1.8   \n71                6.1               2.8                4.0               1.3   \n72                6.3               2.5                4.9               1.5   \n73                6.1               2.8                4.7               1.2   \n74                6.4               2.9                4.3               1.3   \n75                6.6               3.0                4.4               1.4   \n76                6.8               2.8                4.8               1.4   \n77                6.7               3.0                5.0               1.7   \n78                6.0               2.9                4.5               1.5   \n79                5.7               2.6                3.5               1.0   \n80                5.5               2.4                3.8               1.1   \n81                5.5               2.4                3.7               1.0   \n82                5.8               2.7                3.9               1.2   \n83                6.0               2.7                5.1               1.6   \n84                5.4               3.0                4.5               1.5   \n85                6.0               3.4                4.5               1.6   \n86                6.7               3.1                4.7               1.5   \n87                6.3               2.3                4.4               1.3   \n88                5.6               3.0                4.1               1.3   \n89                5.5               2.5                4.0               1.3   \n90                5.5               2.6                4.4               1.2   \n91                6.1               3.0                4.6               1.4   \n92                5.8               2.6                4.0               1.2   \n93                5.0               2.3                3.3               1.0   \n94                5.6               2.7                4.2               1.3   \n95                5.7               3.0                4.2               1.2   \n96                5.7               2.9                4.2               1.3   \n97                6.2               2.9                4.3               1.3   \n98                5.1               2.5                3.0               1.1   \n99                5.7               2.8                4.1               1.3   \n\n    target flower_name  \n50       1  versicolor  \n51       1  versicolor  \n52       1  versicolor  \n53       1  versicolor  \n54       1  versicolor  \n55       1  versicolor  \n56       1  versicolor  \n57       1  versicolor  \n58       1  versicolor  \n59       1  versicolor  \n60       1  versicolor  \n61       1  versicolor  \n62       1  versicolor  \n63       1  versicolor  \n64       1  versicolor  \n65       1  versicolor  \n66       1  versicolor  \n67       1  versicolor  \n68       1  versicolor  \n69       1  versicolor  \n70       1  versicolor  \n71       1  versicolor  \n72       1  versicolor  \n73       1  versicolor  \n74       1  versicolor  \n75       1  versicolor  \n76       1  versicolor  \n77       1  versicolor  \n78       1  versicolor  \n79       1  versicolor  \n80       1  versicolor  \n81       1  versicolor  \n82       1  versicolor  \n83       1  versicolor  \n84       1  versicolor  \n85       1  versicolor  \n86       1  versicolor  \n87       1  versicolor  \n88       1  versicolor  \n89       1  versicolor  \n90       1  versicolor  \n91       1  versicolor  \n92       1  versicolor  \n93       1  versicolor  \n94       1  versicolor  \n95       1  versicolor  \n96       1  versicolor  \n97       1  versicolor  \n98       1  versicolor  \n99       1  versicolor  ",
      "text/html": "<div>\n<style scoped>\n    .dataframe tbody tr th:only-of-type {\n        vertical-align: middle;\n    }\n\n    .dataframe tbody tr th {\n        vertical-align: top;\n    }\n\n    .dataframe thead th {\n        text-align: right;\n    }\n</style>\n<table border=\"1\" class=\"dataframe\">\n  <thead>\n    <tr style=\"text-align: right;\">\n      <th></th>\n      <th>sepal length (cm)</th>\n      <th>sepal width (cm)</th>\n      <th>petal length (cm)</th>\n      <th>petal width (cm)</th>\n      <th>target</th>\n      <th>flower_name</th>\n    </tr>\n  </thead>\n  <tbody>\n    <tr>\n      <th>50</th>\n      <td>7.0</td>\n      <td>3.2</td>\n      <td>4.7</td>\n      <td>1.4</td>\n      <td>1</td>\n      <td>versicolor</td>\n    </tr>\n    <tr>\n      <th>51</th>\n      <td>6.4</td>\n      <td>3.2</td>\n      <td>4.5</td>\n      <td>1.5</td>\n      <td>1</td>\n      <td>versicolor</td>\n    </tr>\n    <tr>\n      <th>52</th>\n      <td>6.9</td>\n      <td>3.1</td>\n      <td>4.9</td>\n      <td>1.5</td>\n      <td>1</td>\n      <td>versicolor</td>\n    </tr>\n    <tr>\n      <th>53</th>\n      <td>5.5</td>\n      <td>2.3</td>\n      <td>4.0</td>\n      <td>1.3</td>\n      <td>1</td>\n      <td>versicolor</td>\n    </tr>\n    <tr>\n      <th>54</th>\n      <td>6.5</td>\n      <td>2.8</td>\n      <td>4.6</td>\n      <td>1.5</td>\n      <td>1</td>\n      <td>versicolor</td>\n    </tr>\n    <tr>\n      <th>55</th>\n      <td>5.7</td>\n      <td>2.8</td>\n      <td>4.5</td>\n      <td>1.3</td>\n      <td>1</td>\n      <td>versicolor</td>\n    </tr>\n    <tr>\n      <th>56</th>\n      <td>6.3</td>\n      <td>3.3</td>\n      <td>4.7</td>\n      <td>1.6</td>\n      <td>1</td>\n      <td>versicolor</td>\n    </tr>\n    <tr>\n      <th>57</th>\n      <td>4.9</td>\n      <td>2.4</td>\n      <td>3.3</td>\n      <td>1.0</td>\n      <td>1</td>\n      <td>versicolor</td>\n    </tr>\n    <tr>\n      <th>58</th>\n      <td>6.6</td>\n      <td>2.9</td>\n      <td>4.6</td>\n      <td>1.3</td>\n      <td>1</td>\n      <td>versicolor</td>\n    </tr>\n    <tr>\n      <th>59</th>\n      <td>5.2</td>\n      <td>2.7</td>\n      <td>3.9</td>\n      <td>1.4</td>\n      <td>1</td>\n      <td>versicolor</td>\n    </tr>\n    <tr>\n      <th>60</th>\n      <td>5.0</td>\n      <td>2.0</td>\n      <td>3.5</td>\n      <td>1.0</td>\n      <td>1</td>\n      <td>versicolor</td>\n    </tr>\n    <tr>\n      <th>61</th>\n      <td>5.9</td>\n      <td>3.0</td>\n      <td>4.2</td>\n      <td>1.5</td>\n      <td>1</td>\n      <td>versicolor</td>\n    </tr>\n    <tr>\n      <th>62</th>\n      <td>6.0</td>\n      <td>2.2</td>\n      <td>4.0</td>\n      <td>1.0</td>\n      <td>1</td>\n      <td>versicolor</td>\n    </tr>\n    <tr>\n      <th>63</th>\n      <td>6.1</td>\n      <td>2.9</td>\n      <td>4.7</td>\n      <td>1.4</td>\n      <td>1</td>\n      <td>versicolor</td>\n    </tr>\n    <tr>\n      <th>64</th>\n      <td>5.6</td>\n      <td>2.9</td>\n      <td>3.6</td>\n      <td>1.3</td>\n      <td>1</td>\n      <td>versicolor</td>\n    </tr>\n    <tr>\n      <th>65</th>\n      <td>6.7</td>\n      <td>3.1</td>\n      <td>4.4</td>\n      <td>1.4</td>\n      <td>1</td>\n      <td>versicolor</td>\n    </tr>\n    <tr>\n      <th>66</th>\n      <td>5.6</td>\n      <td>3.0</td>\n      <td>4.5</td>\n      <td>1.5</td>\n      <td>1</td>\n      <td>versicolor</td>\n    </tr>\n    <tr>\n      <th>67</th>\n      <td>5.8</td>\n      <td>2.7</td>\n      <td>4.1</td>\n      <td>1.0</td>\n      <td>1</td>\n      <td>versicolor</td>\n    </tr>\n    <tr>\n      <th>68</th>\n      <td>6.2</td>\n      <td>2.2</td>\n      <td>4.5</td>\n      <td>1.5</td>\n      <td>1</td>\n      <td>versicolor</td>\n    </tr>\n    <tr>\n      <th>69</th>\n      <td>5.6</td>\n      <td>2.5</td>\n      <td>3.9</td>\n      <td>1.1</td>\n      <td>1</td>\n      <td>versicolor</td>\n    </tr>\n    <tr>\n      <th>70</th>\n      <td>5.9</td>\n      <td>3.2</td>\n      <td>4.8</td>\n      <td>1.8</td>\n      <td>1</td>\n      <td>versicolor</td>\n    </tr>\n    <tr>\n      <th>71</th>\n      <td>6.1</td>\n      <td>2.8</td>\n      <td>4.0</td>\n      <td>1.3</td>\n      <td>1</td>\n      <td>versicolor</td>\n    </tr>\n    <tr>\n      <th>72</th>\n      <td>6.3</td>\n      <td>2.5</td>\n      <td>4.9</td>\n      <td>1.5</td>\n      <td>1</td>\n      <td>versicolor</td>\n    </tr>\n    <tr>\n      <th>73</th>\n      <td>6.1</td>\n      <td>2.8</td>\n      <td>4.7</td>\n      <td>1.2</td>\n      <td>1</td>\n      <td>versicolor</td>\n    </tr>\n    <tr>\n      <th>74</th>\n      <td>6.4</td>\n      <td>2.9</td>\n      <td>4.3</td>\n      <td>1.3</td>\n      <td>1</td>\n      <td>versicolor</td>\n    </tr>\n    <tr>\n      <th>75</th>\n      <td>6.6</td>\n      <td>3.0</td>\n      <td>4.4</td>\n      <td>1.4</td>\n      <td>1</td>\n      <td>versicolor</td>\n    </tr>\n    <tr>\n      <th>76</th>\n      <td>6.8</td>\n      <td>2.8</td>\n      <td>4.8</td>\n      <td>1.4</td>\n      <td>1</td>\n      <td>versicolor</td>\n    </tr>\n    <tr>\n      <th>77</th>\n      <td>6.7</td>\n      <td>3.0</td>\n      <td>5.0</td>\n      <td>1.7</td>\n      <td>1</td>\n      <td>versicolor</td>\n    </tr>\n    <tr>\n      <th>78</th>\n      <td>6.0</td>\n      <td>2.9</td>\n      <td>4.5</td>\n      <td>1.5</td>\n      <td>1</td>\n      <td>versicolor</td>\n    </tr>\n    <tr>\n      <th>79</th>\n      <td>5.7</td>\n      <td>2.6</td>\n      <td>3.5</td>\n      <td>1.0</td>\n      <td>1</td>\n      <td>versicolor</td>\n    </tr>\n    <tr>\n      <th>80</th>\n      <td>5.5</td>\n      <td>2.4</td>\n      <td>3.8</td>\n      <td>1.1</td>\n      <td>1</td>\n      <td>versicolor</td>\n    </tr>\n    <tr>\n      <th>81</th>\n      <td>5.5</td>\n      <td>2.4</td>\n      <td>3.7</td>\n      <td>1.0</td>\n      <td>1</td>\n      <td>versicolor</td>\n    </tr>\n    <tr>\n      <th>82</th>\n      <td>5.8</td>\n      <td>2.7</td>\n      <td>3.9</td>\n      <td>1.2</td>\n      <td>1</td>\n      <td>versicolor</td>\n    </tr>\n    <tr>\n      <th>83</th>\n      <td>6.0</td>\n      <td>2.7</td>\n      <td>5.1</td>\n      <td>1.6</td>\n      <td>1</td>\n      <td>versicolor</td>\n    </tr>\n    <tr>\n      <th>84</th>\n      <td>5.4</td>\n      <td>3.0</td>\n      <td>4.5</td>\n      <td>1.5</td>\n      <td>1</td>\n      <td>versicolor</td>\n    </tr>\n    <tr>\n      <th>85</th>\n      <td>6.0</td>\n      <td>3.4</td>\n      <td>4.5</td>\n      <td>1.6</td>\n      <td>1</td>\n      <td>versicolor</td>\n    </tr>\n    <tr>\n      <th>86</th>\n      <td>6.7</td>\n      <td>3.1</td>\n      <td>4.7</td>\n      <td>1.5</td>\n      <td>1</td>\n      <td>versicolor</td>\n    </tr>\n    <tr>\n      <th>87</th>\n      <td>6.3</td>\n      <td>2.3</td>\n      <td>4.4</td>\n      <td>1.3</td>\n      <td>1</td>\n      <td>versicolor</td>\n    </tr>\n    <tr>\n      <th>88</th>\n      <td>5.6</td>\n      <td>3.0</td>\n      <td>4.1</td>\n      <td>1.3</td>\n      <td>1</td>\n      <td>versicolor</td>\n    </tr>\n    <tr>\n      <th>89</th>\n      <td>5.5</td>\n      <td>2.5</td>\n      <td>4.0</td>\n      <td>1.3</td>\n      <td>1</td>\n      <td>versicolor</td>\n    </tr>\n    <tr>\n      <th>90</th>\n      <td>5.5</td>\n      <td>2.6</td>\n      <td>4.4</td>\n      <td>1.2</td>\n      <td>1</td>\n      <td>versicolor</td>\n    </tr>\n    <tr>\n      <th>91</th>\n      <td>6.1</td>\n      <td>3.0</td>\n      <td>4.6</td>\n      <td>1.4</td>\n      <td>1</td>\n      <td>versicolor</td>\n    </tr>\n    <tr>\n      <th>92</th>\n      <td>5.8</td>\n      <td>2.6</td>\n      <td>4.0</td>\n      <td>1.2</td>\n      <td>1</td>\n      <td>versicolor</td>\n    </tr>\n    <tr>\n      <th>93</th>\n      <td>5.0</td>\n      <td>2.3</td>\n      <td>3.3</td>\n      <td>1.0</td>\n      <td>1</td>\n      <td>versicolor</td>\n    </tr>\n    <tr>\n      <th>94</th>\n      <td>5.6</td>\n      <td>2.7</td>\n      <td>4.2</td>\n      <td>1.3</td>\n      <td>1</td>\n      <td>versicolor</td>\n    </tr>\n    <tr>\n      <th>95</th>\n      <td>5.7</td>\n      <td>3.0</td>\n      <td>4.2</td>\n      <td>1.2</td>\n      <td>1</td>\n      <td>versicolor</td>\n    </tr>\n    <tr>\n      <th>96</th>\n      <td>5.7</td>\n      <td>2.9</td>\n      <td>4.2</td>\n      <td>1.3</td>\n      <td>1</td>\n      <td>versicolor</td>\n    </tr>\n    <tr>\n      <th>97</th>\n      <td>6.2</td>\n      <td>2.9</td>\n      <td>4.3</td>\n      <td>1.3</td>\n      <td>1</td>\n      <td>versicolor</td>\n    </tr>\n    <tr>\n      <th>98</th>\n      <td>5.1</td>\n      <td>2.5</td>\n      <td>3.0</td>\n      <td>1.1</td>\n      <td>1</td>\n      <td>versicolor</td>\n    </tr>\n    <tr>\n      <th>99</th>\n      <td>5.7</td>\n      <td>2.8</td>\n      <td>4.1</td>\n      <td>1.3</td>\n      <td>1</td>\n      <td>versicolor</td>\n    </tr>\n  </tbody>\n</table>\n</div>"
     },
     "execution_count": 35,
     "metadata": {},
     "output_type": "execute_result"
    }
   ],
   "source": [
    "df[df.target == 1]"
   ],
   "metadata": {
    "collapsed": false
   }
  },
  {
   "cell_type": "code",
   "execution_count": 36,
   "outputs": [
    {
     "data": {
      "text/plain": "    sepal length (cm)  sepal width (cm)  petal length (cm)  petal width (cm)  \\\n50                7.0               3.2                4.7               1.4   \n51                6.4               3.2                4.5               1.5   \n52                6.9               3.1                4.9               1.5   \n53                5.5               2.3                4.0               1.3   \n54                6.5               2.8                4.6               1.5   \n55                5.7               2.8                4.5               1.3   \n56                6.3               3.3                4.7               1.6   \n57                4.9               2.4                3.3               1.0   \n58                6.6               2.9                4.6               1.3   \n59                5.2               2.7                3.9               1.4   \n60                5.0               2.0                3.5               1.0   \n61                5.9               3.0                4.2               1.5   \n62                6.0               2.2                4.0               1.0   \n63                6.1               2.9                4.7               1.4   \n64                5.6               2.9                3.6               1.3   \n65                6.7               3.1                4.4               1.4   \n66                5.6               3.0                4.5               1.5   \n67                5.8               2.7                4.1               1.0   \n68                6.2               2.2                4.5               1.5   \n69                5.6               2.5                3.9               1.1   \n70                5.9               3.2                4.8               1.8   \n71                6.1               2.8                4.0               1.3   \n72                6.3               2.5                4.9               1.5   \n73                6.1               2.8                4.7               1.2   \n74                6.4               2.9                4.3               1.3   \n75                6.6               3.0                4.4               1.4   \n76                6.8               2.8                4.8               1.4   \n77                6.7               3.0                5.0               1.7   \n78                6.0               2.9                4.5               1.5   \n79                5.7               2.6                3.5               1.0   \n80                5.5               2.4                3.8               1.1   \n81                5.5               2.4                3.7               1.0   \n82                5.8               2.7                3.9               1.2   \n83                6.0               2.7                5.1               1.6   \n84                5.4               3.0                4.5               1.5   \n85                6.0               3.4                4.5               1.6   \n86                6.7               3.1                4.7               1.5   \n87                6.3               2.3                4.4               1.3   \n88                5.6               3.0                4.1               1.3   \n89                5.5               2.5                4.0               1.3   \n90                5.5               2.6                4.4               1.2   \n91                6.1               3.0                4.6               1.4   \n92                5.8               2.6                4.0               1.2   \n93                5.0               2.3                3.3               1.0   \n94                5.6               2.7                4.2               1.3   \n95                5.7               3.0                4.2               1.2   \n96                5.7               2.9                4.2               1.3   \n97                6.2               2.9                4.3               1.3   \n98                5.1               2.5                3.0               1.1   \n99                5.7               2.8                4.1               1.3   \n\n    target flower_name  \n50       1  versicolor  \n51       1  versicolor  \n52       1  versicolor  \n53       1  versicolor  \n54       1  versicolor  \n55       1  versicolor  \n56       1  versicolor  \n57       1  versicolor  \n58       1  versicolor  \n59       1  versicolor  \n60       1  versicolor  \n61       1  versicolor  \n62       1  versicolor  \n63       1  versicolor  \n64       1  versicolor  \n65       1  versicolor  \n66       1  versicolor  \n67       1  versicolor  \n68       1  versicolor  \n69       1  versicolor  \n70       1  versicolor  \n71       1  versicolor  \n72       1  versicolor  \n73       1  versicolor  \n74       1  versicolor  \n75       1  versicolor  \n76       1  versicolor  \n77       1  versicolor  \n78       1  versicolor  \n79       1  versicolor  \n80       1  versicolor  \n81       1  versicolor  \n82       1  versicolor  \n83       1  versicolor  \n84       1  versicolor  \n85       1  versicolor  \n86       1  versicolor  \n87       1  versicolor  \n88       1  versicolor  \n89       1  versicolor  \n90       1  versicolor  \n91       1  versicolor  \n92       1  versicolor  \n93       1  versicolor  \n94       1  versicolor  \n95       1  versicolor  \n96       1  versicolor  \n97       1  versicolor  \n98       1  versicolor  \n99       1  versicolor  ",
      "text/html": "<div>\n<style scoped>\n    .dataframe tbody tr th:only-of-type {\n        vertical-align: middle;\n    }\n\n    .dataframe tbody tr th {\n        vertical-align: top;\n    }\n\n    .dataframe thead th {\n        text-align: right;\n    }\n</style>\n<table border=\"1\" class=\"dataframe\">\n  <thead>\n    <tr style=\"text-align: right;\">\n      <th></th>\n      <th>sepal length (cm)</th>\n      <th>sepal width (cm)</th>\n      <th>petal length (cm)</th>\n      <th>petal width (cm)</th>\n      <th>target</th>\n      <th>flower_name</th>\n    </tr>\n  </thead>\n  <tbody>\n    <tr>\n      <th>50</th>\n      <td>7.0</td>\n      <td>3.2</td>\n      <td>4.7</td>\n      <td>1.4</td>\n      <td>1</td>\n      <td>versicolor</td>\n    </tr>\n    <tr>\n      <th>51</th>\n      <td>6.4</td>\n      <td>3.2</td>\n      <td>4.5</td>\n      <td>1.5</td>\n      <td>1</td>\n      <td>versicolor</td>\n    </tr>\n    <tr>\n      <th>52</th>\n      <td>6.9</td>\n      <td>3.1</td>\n      <td>4.9</td>\n      <td>1.5</td>\n      <td>1</td>\n      <td>versicolor</td>\n    </tr>\n    <tr>\n      <th>53</th>\n      <td>5.5</td>\n      <td>2.3</td>\n      <td>4.0</td>\n      <td>1.3</td>\n      <td>1</td>\n      <td>versicolor</td>\n    </tr>\n    <tr>\n      <th>54</th>\n      <td>6.5</td>\n      <td>2.8</td>\n      <td>4.6</td>\n      <td>1.5</td>\n      <td>1</td>\n      <td>versicolor</td>\n    </tr>\n    <tr>\n      <th>55</th>\n      <td>5.7</td>\n      <td>2.8</td>\n      <td>4.5</td>\n      <td>1.3</td>\n      <td>1</td>\n      <td>versicolor</td>\n    </tr>\n    <tr>\n      <th>56</th>\n      <td>6.3</td>\n      <td>3.3</td>\n      <td>4.7</td>\n      <td>1.6</td>\n      <td>1</td>\n      <td>versicolor</td>\n    </tr>\n    <tr>\n      <th>57</th>\n      <td>4.9</td>\n      <td>2.4</td>\n      <td>3.3</td>\n      <td>1.0</td>\n      <td>1</td>\n      <td>versicolor</td>\n    </tr>\n    <tr>\n      <th>58</th>\n      <td>6.6</td>\n      <td>2.9</td>\n      <td>4.6</td>\n      <td>1.3</td>\n      <td>1</td>\n      <td>versicolor</td>\n    </tr>\n    <tr>\n      <th>59</th>\n      <td>5.2</td>\n      <td>2.7</td>\n      <td>3.9</td>\n      <td>1.4</td>\n      <td>1</td>\n      <td>versicolor</td>\n    </tr>\n    <tr>\n      <th>60</th>\n      <td>5.0</td>\n      <td>2.0</td>\n      <td>3.5</td>\n      <td>1.0</td>\n      <td>1</td>\n      <td>versicolor</td>\n    </tr>\n    <tr>\n      <th>61</th>\n      <td>5.9</td>\n      <td>3.0</td>\n      <td>4.2</td>\n      <td>1.5</td>\n      <td>1</td>\n      <td>versicolor</td>\n    </tr>\n    <tr>\n      <th>62</th>\n      <td>6.0</td>\n      <td>2.2</td>\n      <td>4.0</td>\n      <td>1.0</td>\n      <td>1</td>\n      <td>versicolor</td>\n    </tr>\n    <tr>\n      <th>63</th>\n      <td>6.1</td>\n      <td>2.9</td>\n      <td>4.7</td>\n      <td>1.4</td>\n      <td>1</td>\n      <td>versicolor</td>\n    </tr>\n    <tr>\n      <th>64</th>\n      <td>5.6</td>\n      <td>2.9</td>\n      <td>3.6</td>\n      <td>1.3</td>\n      <td>1</td>\n      <td>versicolor</td>\n    </tr>\n    <tr>\n      <th>65</th>\n      <td>6.7</td>\n      <td>3.1</td>\n      <td>4.4</td>\n      <td>1.4</td>\n      <td>1</td>\n      <td>versicolor</td>\n    </tr>\n    <tr>\n      <th>66</th>\n      <td>5.6</td>\n      <td>3.0</td>\n      <td>4.5</td>\n      <td>1.5</td>\n      <td>1</td>\n      <td>versicolor</td>\n    </tr>\n    <tr>\n      <th>67</th>\n      <td>5.8</td>\n      <td>2.7</td>\n      <td>4.1</td>\n      <td>1.0</td>\n      <td>1</td>\n      <td>versicolor</td>\n    </tr>\n    <tr>\n      <th>68</th>\n      <td>6.2</td>\n      <td>2.2</td>\n      <td>4.5</td>\n      <td>1.5</td>\n      <td>1</td>\n      <td>versicolor</td>\n    </tr>\n    <tr>\n      <th>69</th>\n      <td>5.6</td>\n      <td>2.5</td>\n      <td>3.9</td>\n      <td>1.1</td>\n      <td>1</td>\n      <td>versicolor</td>\n    </tr>\n    <tr>\n      <th>70</th>\n      <td>5.9</td>\n      <td>3.2</td>\n      <td>4.8</td>\n      <td>1.8</td>\n      <td>1</td>\n      <td>versicolor</td>\n    </tr>\n    <tr>\n      <th>71</th>\n      <td>6.1</td>\n      <td>2.8</td>\n      <td>4.0</td>\n      <td>1.3</td>\n      <td>1</td>\n      <td>versicolor</td>\n    </tr>\n    <tr>\n      <th>72</th>\n      <td>6.3</td>\n      <td>2.5</td>\n      <td>4.9</td>\n      <td>1.5</td>\n      <td>1</td>\n      <td>versicolor</td>\n    </tr>\n    <tr>\n      <th>73</th>\n      <td>6.1</td>\n      <td>2.8</td>\n      <td>4.7</td>\n      <td>1.2</td>\n      <td>1</td>\n      <td>versicolor</td>\n    </tr>\n    <tr>\n      <th>74</th>\n      <td>6.4</td>\n      <td>2.9</td>\n      <td>4.3</td>\n      <td>1.3</td>\n      <td>1</td>\n      <td>versicolor</td>\n    </tr>\n    <tr>\n      <th>75</th>\n      <td>6.6</td>\n      <td>3.0</td>\n      <td>4.4</td>\n      <td>1.4</td>\n      <td>1</td>\n      <td>versicolor</td>\n    </tr>\n    <tr>\n      <th>76</th>\n      <td>6.8</td>\n      <td>2.8</td>\n      <td>4.8</td>\n      <td>1.4</td>\n      <td>1</td>\n      <td>versicolor</td>\n    </tr>\n    <tr>\n      <th>77</th>\n      <td>6.7</td>\n      <td>3.0</td>\n      <td>5.0</td>\n      <td>1.7</td>\n      <td>1</td>\n      <td>versicolor</td>\n    </tr>\n    <tr>\n      <th>78</th>\n      <td>6.0</td>\n      <td>2.9</td>\n      <td>4.5</td>\n      <td>1.5</td>\n      <td>1</td>\n      <td>versicolor</td>\n    </tr>\n    <tr>\n      <th>79</th>\n      <td>5.7</td>\n      <td>2.6</td>\n      <td>3.5</td>\n      <td>1.0</td>\n      <td>1</td>\n      <td>versicolor</td>\n    </tr>\n    <tr>\n      <th>80</th>\n      <td>5.5</td>\n      <td>2.4</td>\n      <td>3.8</td>\n      <td>1.1</td>\n      <td>1</td>\n      <td>versicolor</td>\n    </tr>\n    <tr>\n      <th>81</th>\n      <td>5.5</td>\n      <td>2.4</td>\n      <td>3.7</td>\n      <td>1.0</td>\n      <td>1</td>\n      <td>versicolor</td>\n    </tr>\n    <tr>\n      <th>82</th>\n      <td>5.8</td>\n      <td>2.7</td>\n      <td>3.9</td>\n      <td>1.2</td>\n      <td>1</td>\n      <td>versicolor</td>\n    </tr>\n    <tr>\n      <th>83</th>\n      <td>6.0</td>\n      <td>2.7</td>\n      <td>5.1</td>\n      <td>1.6</td>\n      <td>1</td>\n      <td>versicolor</td>\n    </tr>\n    <tr>\n      <th>84</th>\n      <td>5.4</td>\n      <td>3.0</td>\n      <td>4.5</td>\n      <td>1.5</td>\n      <td>1</td>\n      <td>versicolor</td>\n    </tr>\n    <tr>\n      <th>85</th>\n      <td>6.0</td>\n      <td>3.4</td>\n      <td>4.5</td>\n      <td>1.6</td>\n      <td>1</td>\n      <td>versicolor</td>\n    </tr>\n    <tr>\n      <th>86</th>\n      <td>6.7</td>\n      <td>3.1</td>\n      <td>4.7</td>\n      <td>1.5</td>\n      <td>1</td>\n      <td>versicolor</td>\n    </tr>\n    <tr>\n      <th>87</th>\n      <td>6.3</td>\n      <td>2.3</td>\n      <td>4.4</td>\n      <td>1.3</td>\n      <td>1</td>\n      <td>versicolor</td>\n    </tr>\n    <tr>\n      <th>88</th>\n      <td>5.6</td>\n      <td>3.0</td>\n      <td>4.1</td>\n      <td>1.3</td>\n      <td>1</td>\n      <td>versicolor</td>\n    </tr>\n    <tr>\n      <th>89</th>\n      <td>5.5</td>\n      <td>2.5</td>\n      <td>4.0</td>\n      <td>1.3</td>\n      <td>1</td>\n      <td>versicolor</td>\n    </tr>\n    <tr>\n      <th>90</th>\n      <td>5.5</td>\n      <td>2.6</td>\n      <td>4.4</td>\n      <td>1.2</td>\n      <td>1</td>\n      <td>versicolor</td>\n    </tr>\n    <tr>\n      <th>91</th>\n      <td>6.1</td>\n      <td>3.0</td>\n      <td>4.6</td>\n      <td>1.4</td>\n      <td>1</td>\n      <td>versicolor</td>\n    </tr>\n    <tr>\n      <th>92</th>\n      <td>5.8</td>\n      <td>2.6</td>\n      <td>4.0</td>\n      <td>1.2</td>\n      <td>1</td>\n      <td>versicolor</td>\n    </tr>\n    <tr>\n      <th>93</th>\n      <td>5.0</td>\n      <td>2.3</td>\n      <td>3.3</td>\n      <td>1.0</td>\n      <td>1</td>\n      <td>versicolor</td>\n    </tr>\n    <tr>\n      <th>94</th>\n      <td>5.6</td>\n      <td>2.7</td>\n      <td>4.2</td>\n      <td>1.3</td>\n      <td>1</td>\n      <td>versicolor</td>\n    </tr>\n    <tr>\n      <th>95</th>\n      <td>5.7</td>\n      <td>3.0</td>\n      <td>4.2</td>\n      <td>1.2</td>\n      <td>1</td>\n      <td>versicolor</td>\n    </tr>\n    <tr>\n      <th>96</th>\n      <td>5.7</td>\n      <td>2.9</td>\n      <td>4.2</td>\n      <td>1.3</td>\n      <td>1</td>\n      <td>versicolor</td>\n    </tr>\n    <tr>\n      <th>97</th>\n      <td>6.2</td>\n      <td>2.9</td>\n      <td>4.3</td>\n      <td>1.3</td>\n      <td>1</td>\n      <td>versicolor</td>\n    </tr>\n    <tr>\n      <th>98</th>\n      <td>5.1</td>\n      <td>2.5</td>\n      <td>3.0</td>\n      <td>1.1</td>\n      <td>1</td>\n      <td>versicolor</td>\n    </tr>\n    <tr>\n      <th>99</th>\n      <td>5.7</td>\n      <td>2.8</td>\n      <td>4.1</td>\n      <td>1.3</td>\n      <td>1</td>\n      <td>versicolor</td>\n    </tr>\n  </tbody>\n</table>\n</div>"
     },
     "execution_count": 36,
     "metadata": {},
     "output_type": "execute_result"
    }
   ],
   "source": [
    "% matplotlib inline\n",
    "\n",
    "df_0 = df.loc[df.target == 0]\n",
    "df_1 = df.loc[df.target == 1]\n",
    "df_2 = df.loc[df.target == 2]\n",
    "df_1"
   ],
   "metadata": {
    "collapsed": false
   }
  },
  {
   "cell_type": "code",
   "execution_count": 37,
   "outputs": [
    {
     "data": {
      "text/plain": "<matplotlib.collections.PathCollection at 0x7f9991bbdaf0>"
     },
     "execution_count": 37,
     "metadata": {},
     "output_type": "execute_result"
    },
    {
     "data": {
      "text/plain": "<Figure size 640x480 with 1 Axes>",
      "image/png": "[encoded data removed]"
     },
     "metadata": {},
     "output_type": "display_data"
    }
   ],
   "source": [
    "plt.xlabel(\"petal length (cm)\")\n",
    "plt.ylabel(\"petal width (cm)\")\n",
    "plt.scatter(df_0[\"sepal length (cm)\"], df_0[\"sepal width (cm)\"], color=\"green\", marker=\"+\")\n",
    "plt.scatter(df_1[\"sepal length (cm)\"], df_1[\"sepal width (cm)\"], color=\"green\", marker=\".\")\n",
    "# plt.scatter(df_2[\"sepal length (cm)\"], df_2[\"sepal width (cm)\"], color=\"green\", marker=\"*\")"
   ],
   "metadata": {
    "collapsed": false
   }
  },
  {
   "cell_type": "code",
   "execution_count": 38,
   "outputs": [],
   "source": [
    "y = df[\"target\"]\n",
    "X = df.drop([\"flower_name\", \"target\"], axis=1)"
   ],
   "metadata": {
    "collapsed": false
   }
  },
  {
   "cell_type": "code",
   "execution_count": 39,
   "outputs": [],
   "source": [
    "from sklearn.model_selection import train_test_split\n",
    "\n",
    "X_train, X_test, y_train, y_test = train_test_split(X, y, test_size=0.2)"
   ],
   "metadata": {
    "collapsed": false
   }
  },
  {
   "cell_type": "code",
   "execution_count": 40,
   "outputs": [
    {
     "data": {
      "text/plain": "(120, 30)"
     },
     "execution_count": 40,
     "metadata": {},
     "output_type": "execute_result"
    }
   ],
   "source": [
    "len(X_train), len(X_test)"
   ],
   "metadata": {
    "collapsed": false
   }
  },
  {
   "cell_type": "code",
   "execution_count": 41,
   "outputs": [
    {
     "data": {
      "text/plain": "SVC(C=10, gamma=10, kernel='linear')"
     },
     "execution_count": 41,
     "metadata": {},
     "output_type": "execute_result"
    }
   ],
   "source": [
    "from sklearn.svm import SVC\n",
    "\n",
    "m = SVC(C=10, gamma=10, kernel=\"linear\")\n",
    "m.fit(X_train, y_train)"
   ],
   "metadata": {
    "collapsed": false
   }
  },
  {
   "cell_type": "code",
   "execution_count": 42,
   "outputs": [
    {
     "data": {
      "text/plain": "1.0"
     },
     "execution_count": 42,
     "metadata": {},
     "output_type": "execute_result"
    }
   ],
   "source": [
    "m.score(X_test, y_test)"
   ],
   "metadata": {
    "collapsed": false
   }
  },
  {
   "cell_type": "markdown",
   "source": [
    "Exercise\n",
    "\n",
    "Train SVM classifier using sklearn digits dataset (i.e. from sklearn.datasets import load_digits) and then,\n",
    "\n",
    "1. Measure accuracy of your model using different kernels such as rbf and linear.\n",
    "2. Tune your model further using regularization and gamma parameters and try to come up with highest accurancy score\n",
    "3. Use 80% of samples as training data size\n"
   ],
   "metadata": {
    "collapsed": false
   }
  },
  {
   "cell_type": "code",
   "execution_count": 43,
   "outputs": [
    {
     "data": {
      "text/plain": "['DESCR', 'data', 'feature_names', 'frame', 'images', 'target', 'target_names']"
     },
     "execution_count": 43,
     "metadata": {},
     "output_type": "execute_result"
    }
   ],
   "source": [
    "from sklearn.datasets import load_digits\n",
    "\n",
    "digits = load_digits()\n",
    "dir(digits)"
   ],
   "metadata": {
    "collapsed": false
   }
  },
  {
   "cell_type": "code",
   "execution_count": 44,
   "outputs": [
    {
     "data": {
      "text/plain": "      pixel_0_0  pixel_0_1  pixel_0_2  pixel_0_3  pixel_0_4  pixel_0_5  \\\n0           0.0        0.0        5.0       13.0        9.0        1.0   \n1           0.0        0.0        0.0       12.0       13.0        5.0   \n2           0.0        0.0        0.0        4.0       15.0       12.0   \n3           0.0        0.0        7.0       15.0       13.0        1.0   \n4           0.0        0.0        0.0        1.0       11.0        0.0   \n...         ...        ...        ...        ...        ...        ...   \n1792        0.0        0.0        4.0       10.0       13.0        6.0   \n1793        0.0        0.0        6.0       16.0       13.0       11.0   \n1794        0.0        0.0        1.0       11.0       15.0        1.0   \n1795        0.0        0.0        2.0       10.0        7.0        0.0   \n1796        0.0        0.0       10.0       14.0        8.0        1.0   \n\n      pixel_0_6  pixel_0_7  pixel_1_0  pixel_1_1  ...  pixel_6_6  pixel_6_7  \\\n0           0.0        0.0        0.0        0.0  ...        0.0        0.0   \n1           0.0        0.0        0.0        0.0  ...        0.0        0.0   \n2           0.0        0.0        0.0        0.0  ...        5.0        0.0   \n3           0.0        0.0        0.0        8.0  ...        9.0        0.0   \n4           0.0        0.0        0.0        0.0  ...        0.0        0.0   \n...         ...        ...        ...        ...  ...        ...        ...   \n1792        0.0        0.0        0.0        1.0  ...        4.0        0.0   \n1793        1.0        0.0        0.0        0.0  ...        1.0        0.0   \n1794        0.0        0.0        0.0        0.0  ...        0.0        0.0   \n1795        0.0        0.0        0.0        0.0  ...        2.0        0.0   \n1796        0.0        0.0        0.0        2.0  ...        8.0        0.0   \n\n      pixel_7_0  pixel_7_1  pixel_7_2  pixel_7_3  pixel_7_4  pixel_7_5  \\\n0           0.0        0.0        6.0       13.0       10.0        0.0   \n1           0.0        0.0        0.0       11.0       16.0       10.0   \n2           0.0        0.0        0.0        3.0       11.0       16.0   \n3           0.0        0.0        7.0       13.0       13.0        9.0   \n4           0.0        0.0        0.0        2.0       16.0        4.0   \n...         ...        ...        ...        ...        ...        ...   \n1792        0.0        0.0        2.0       14.0       15.0        9.0   \n1793        0.0        0.0        6.0       16.0       14.0        6.0   \n1794        0.0        0.0        2.0        9.0       13.0        6.0   \n1795        0.0        0.0        5.0       12.0       16.0       12.0   \n1796        0.0        1.0        8.0       12.0       14.0       12.0   \n\n      pixel_7_6  pixel_7_7  \n0           0.0        0.0  \n1           0.0        0.0  \n2           9.0        0.0  \n3           0.0        0.0  \n4           0.0        0.0  \n...         ...        ...  \n1792        0.0        0.0  \n1793        0.0        0.0  \n1794        0.0        0.0  \n1795        0.0        0.0  \n1796        1.0        0.0  \n\n[1797 rows x 64 columns]",
      "text/html": "<div>\n<style scoped>\n    .dataframe tbody tr th:only-of-type {\n        vertical-align: middle;\n    }\n\n    .dataframe tbody tr th {\n        vertical-align: top;\n    }\n\n    .dataframe thead th {\n        text-align: right;\n    }\n</style>\n<table border=\"1\" class=\"dataframe\">\n  <thead>\n    <tr style=\"text-align: right;\">\n      <th></th>\n      <th>pixel_0_0</th>\n      <th>pixel_0_1</th>\n      <th>pixel_0_2</th>\n      <th>pixel_0_3</th>\n      <th>pixel_0_4</th>\n      <th>pixel_0_5</th>\n      <th>pixel_0_6</th>\n      <th>pixel_0_7</th>\n      <th>pixel_1_0</th>\n      <th>pixel_1_1</th>\n      <th>...</th>\n      <th>pixel_6_6</th>\n      <th>pixel_6_7</th>\n      <th>pixel_7_0</th>\n      <th>pixel_7_1</th>\n      <th>pixel_7_2</th>\n      <th>pixel_7_3</th>\n      <th>pixel_7_4</th>\n      <th>pixel_7_5</th>\n      <th>pixel_7_6</th>\n      <th>pixel_7_7</th>\n    </tr>\n  </thead>\n  <tbody>\n    <tr>\n      <th>0</th>\n      <td>0.0</td>\n      <td>0.0</td>\n      <td>5.0</td>\n      <td>13.0</td>\n      <td>9.0</td>\n      <td>1.0</td>\n      <td>0.0</td>\n      <td>0.0</td>\n      <td>0.0</td>\n      <td>0.0</td>\n      <td>...</td>\n      <td>0.0</td>\n      <td>0.0</td>\n      <td>0.0</td>\n      <td>0.0</td>\n      <td>6.0</td>\n      <td>13.0</td>\n      <td>10.0</td>\n      <td>0.0</td>\n      <td>0.0</td>\n      <td>0.0</td>\n    </tr>\n    <tr>\n      <th>1</th>\n      <td>0.0</td>\n      <td>0.0</td>\n      <td>0.0</td>\n      <td>12.0</td>\n      <td>13.0</td>\n      <td>5.0</td>\n      <td>0.0</td>\n      <td>0.0</td>\n      <td>0.0</td>\n      <td>0.0</td>\n      <td>...</td>\n      <td>0.0</td>\n      <td>0.0</td>\n      <td>0.0</td>\n      <td>0.0</td>\n      <td>0.0</td>\n      <td>11.0</td>\n      <td>16.0</td>\n      <td>10.0</td>\n      <td>0.0</td>\n      <td>0.0</td>\n    </tr>\n    <tr>\n      <th>2</th>\n      <td>0.0</td>\n      <td>0.0</td>\n      <td>0.0</td>\n      <td>4.0</td>\n      <td>15.0</td>\n      <td>12.0</td>\n      <td>0.0</td>\n      <td>0.0</td>\n      <td>0.0</td>\n      <td>0.0</td>\n      <td>...</td>\n      <td>5.0</td>\n      <td>0.0</td>\n      <td>0.0</td>\n      <td>0.0</td>\n      <td>0.0</td>\n      <td>3.0</td>\n      <td>11.0</td>\n      <td>16.0</td>\n      <td>9.0</td>\n      <td>0.0</td>\n    </tr>\n    <tr>\n      <th>3</th>\n      <td>0.0</td>\n      <td>0.0</td>\n      <td>7.0</td>\n      <td>15.0</td>\n      <td>13.0</td>\n      <td>1.0</td>\n      <td>0.0</td>\n      <td>0.0</td>\n      <td>0.0</td>\n      <td>8.0</td>\n      <td>...</td>\n      <td>9.0</td>\n      <td>0.0</td>\n      <td>0.0</td>\n      <td>0.0</td>\n      <td>7.0</td>\n      <td>13.0</td>\n      <td>13.0</td>\n      <td>9.0</td>\n      <td>0.0</td>\n      <td>0.0</td>\n    </tr>\n    <tr>\n      <th>4</th>\n      <td>0.0</td>\n      <td>0.0</td>\n      <td>0.0</td>\n      <td>1.0</td>\n      <td>11.0</td>\n      <td>0.0</td>\n      <td>0.0</td>\n      <td>0.0</td>\n      <td>0.0</td>\n      <td>0.0</td>\n      <td>...</td>\n      <td>0.0</td>\n      <td>0.0</td>\n      <td>0.0</td>\n      <td>0.0</td>\n      <td>0.0</td>\n      <td>2.0</td>\n      <td>16.0</td>\n      <td>4.0</td>\n      <td>0.0</td>\n      <td>0.0</td>\n    </tr>\n    <tr>\n      <th>...</th>\n      <td>...</td>\n      <td>...</td>\n      <td>...</td>\n      <td>...</td>\n      <td>...</td>\n      <td>...</td>\n      <td>...</td>\n      <td>...</td>\n      <td>...</td>\n      <td>...</td>\n      <td>...</td>\n      <td>...</td>\n      <td>...</td>\n      <td>...</td>\n      <td>...</td>\n      <td>...</td>\n      <td>...</td>\n      <td>...</td>\n      <td>...</td>\n      <td>...</td>\n      <td>...</td>\n    </tr>\n    <tr>\n      <th>1792</th>\n      <td>0.0</td>\n      <td>0.0</td>\n      <td>4.0</td>\n      <td>10.0</td>\n      <td>13.0</td>\n      <td>6.0</td>\n      <td>0.0</td>\n      <td>0.0</td>\n      <td>0.0</td>\n      <td>1.0</td>\n      <td>...</td>\n      <td>4.0</td>\n      <td>0.0</td>\n      <td>0.0</td>\n      <td>0.0</td>\n      <td>2.0</td>\n      <td>14.0</td>\n      <td>15.0</td>\n      <td>9.0</td>\n      <td>0.0</td>\n      <td>0.0</td>\n    </tr>\n    <tr>\n      <th>1793</th>\n      <td>0.0</td>\n      <td>0.0</td>\n      <td>6.0</td>\n      <td>16.0</td>\n      <td>13.0</td>\n      <td>11.0</td>\n      <td>1.0</td>\n      <td>0.0</td>\n      <td>0.0</td>\n      <td>0.0</td>\n      <td>...</td>\n      <td>1.0</td>\n      <td>0.0</td>\n      <td>0.0</td>\n      <td>0.0</td>\n      <td>6.0</td>\n      <td>16.0</td>\n      <td>14.0</td>\n      <td>6.0</td>\n      <td>0.0</td>\n      <td>0.0</td>\n    </tr>\n    <tr>\n      <th>1794</th>\n      <td>0.0</td>\n      <td>0.0</td>\n      <td>1.0</td>\n      <td>11.0</td>\n      <td>15.0</td>\n      <td>1.0</td>\n      <td>0.0</td>\n      <td>0.0</td>\n      <td>0.0</td>\n      <td>0.0</td>\n      <td>...</td>\n      <td>0.0</td>\n      <td>0.0</td>\n      <td>0.0</td>\n      <td>0.0</td>\n      <td>2.0</td>\n      <td>9.0</td>\n      <td>13.0</td>\n      <td>6.0</td>\n      <td>0.0</td>\n      <td>0.0</td>\n    </tr>\n    <tr>\n      <th>1795</th>\n      <td>0.0</td>\n      <td>0.0</td>\n      <td>2.0</td>\n      <td>10.0</td>\n      <td>7.0</td>\n      <td>0.0</td>\n      <td>0.0</td>\n      <td>0.0</td>\n      <td>0.0</td>\n      <td>0.0</td>\n      <td>...</td>\n      <td>2.0</td>\n      <td>0.0</td>\n      <td>0.0</td>\n      <td>0.0</td>\n      <td>5.0</td>\n      <td>12.0</td>\n      <td>16.0</td>\n      <td>12.0</td>\n      <td>0.0</td>\n      <td>0.0</td>\n    </tr>\n    <tr>\n      <th>1796</th>\n      <td>0.0</td>\n      <td>0.0</td>\n      <td>10.0</td>\n      <td>14.0</td>\n      <td>8.0</td>\n      <td>1.0</td>\n      <td>0.0</td>\n      <td>0.0</td>\n      <td>0.0</td>\n      <td>2.0</td>\n      <td>...</td>\n      <td>8.0</td>\n      <td>0.0</td>\n      <td>0.0</td>\n      <td>1.0</td>\n      <td>8.0</td>\n      <td>12.0</td>\n      <td>14.0</td>\n      <td>12.0</td>\n      <td>1.0</td>\n      <td>0.0</td>\n    </tr>\n  </tbody>\n</table>\n<p>1797 rows × 64 columns</p>\n</div>"
     },
     "execution_count": 44,
     "metadata": {},
     "output_type": "execute_result"
    }
   ],
   "source": [
    "df = pd.DataFrame(digits.data)\n",
    "df.columns = digits.feature_names\n",
    "df"
   ],
   "metadata": {
    "collapsed": false
   }
  },
  {
   "cell_type": "code",
   "execution_count": 49,
   "outputs": [],
   "source": [
    "y = digits.target\n",
    "X = df.copy()"
   ],
   "metadata": {
    "collapsed": false
   }
  },
  {
   "cell_type": "code",
   "execution_count": 50,
   "outputs": [],
   "source": [
    "from sklearn.model_selection import train_test_split\n",
    "\n",
    "X_train, X_test, y_train, y_test = train_test_split(X, y, test_size=0.2)"
   ],
   "metadata": {
    "collapsed": false
   }
  },
  {
   "cell_type": "code",
   "execution_count": 56,
   "outputs": [
    {
     "ename": "TypeError",
     "evalue": "must be real number, not NoneType",
     "output_type": "error",
     "traceback": [
      "\u001B[0;31m---------------------------------------------------------------------------\u001B[0m",
      "\u001B[0;31mTypeError\u001B[0m                                 Traceback (most recent call last)",
      "\u001B[0;32m/var/folders/44/nbbyll_10jd0z8rj_qxm43740000gn/T/ipykernel_7615/1421735320.py\u001B[0m in \u001B[0;36m<module>\u001B[0;34m\u001B[0m\n\u001B[1;32m      2\u001B[0m \u001B[0;34m\u001B[0m\u001B[0m\n\u001B[1;32m      3\u001B[0m \u001B[0mm\u001B[0m \u001B[0;34m=\u001B[0m \u001B[0mSVC\u001B[0m\u001B[0;34m(\u001B[0m\u001B[0mkernel\u001B[0m\u001B[0;34m=\u001B[0m\u001B[0;34m\"linear\"\u001B[0m\u001B[0;34m,\u001B[0m \u001B[0mgamma\u001B[0m\u001B[0;34m=\u001B[0m\u001B[0;32mNone\u001B[0m\u001B[0;34m)\u001B[0m\u001B[0;34m\u001B[0m\u001B[0;34m\u001B[0m\u001B[0m\n\u001B[0;32m----> 4\u001B[0;31m \u001B[0mm\u001B[0m\u001B[0;34m.\u001B[0m\u001B[0mfit\u001B[0m\u001B[0;34m(\u001B[0m\u001B[0mX_train\u001B[0m\u001B[0;34m,\u001B[0m \u001B[0my_train\u001B[0m\u001B[0;34m)\u001B[0m\u001B[0;34m\u001B[0m\u001B[0;34m\u001B[0m\u001B[0m\n\u001B[0m",
      "\u001B[0;32m~/opt/anaconda3/lib/python3.9/site-packages/sklearn/svm/_base.py\u001B[0m in \u001B[0;36mfit\u001B[0;34m(self, X, y, sample_weight)\u001B[0m\n\u001B[1;32m    253\u001B[0m \u001B[0;34m\u001B[0m\u001B[0m\n\u001B[1;32m    254\u001B[0m         \u001B[0mseed\u001B[0m \u001B[0;34m=\u001B[0m \u001B[0mrnd\u001B[0m\u001B[0;34m.\u001B[0m\u001B[0mrandint\u001B[0m\u001B[0;34m(\u001B[0m\u001B[0mnp\u001B[0m\u001B[0;34m.\u001B[0m\u001B[0miinfo\u001B[0m\u001B[0;34m(\u001B[0m\u001B[0;34m\"i\"\u001B[0m\u001B[0;34m)\u001B[0m\u001B[0;34m.\u001B[0m\u001B[0mmax\u001B[0m\u001B[0;34m)\u001B[0m\u001B[0;34m\u001B[0m\u001B[0;34m\u001B[0m\u001B[0m\n\u001B[0;32m--> 255\u001B[0;31m         \u001B[0mfit\u001B[0m\u001B[0;34m(\u001B[0m\u001B[0mX\u001B[0m\u001B[0;34m,\u001B[0m \u001B[0my\u001B[0m\u001B[0;34m,\u001B[0m \u001B[0msample_weight\u001B[0m\u001B[0;34m,\u001B[0m \u001B[0msolver_type\u001B[0m\u001B[0;34m,\u001B[0m \u001B[0mkernel\u001B[0m\u001B[0;34m,\u001B[0m \u001B[0mrandom_seed\u001B[0m\u001B[0;34m=\u001B[0m\u001B[0mseed\u001B[0m\u001B[0;34m)\u001B[0m\u001B[0;34m\u001B[0m\u001B[0;34m\u001B[0m\u001B[0m\n\u001B[0m\u001B[1;32m    256\u001B[0m         \u001B[0;31m# see comment on the other call to np.iinfo in this file\u001B[0m\u001B[0;34m\u001B[0m\u001B[0;34m\u001B[0m\u001B[0m\n\u001B[1;32m    257\u001B[0m \u001B[0;34m\u001B[0m\u001B[0m\n",
      "\u001B[0;32m~/opt/anaconda3/lib/python3.9/site-packages/sklearn/svm/_base.py\u001B[0m in \u001B[0;36m_dense_fit\u001B[0;34m(self, X, y, sample_weight, solver_type, kernel, random_seed)\u001B[0m\n\u001B[1;32m    313\u001B[0m             \u001B[0mself\u001B[0m\u001B[0;34m.\u001B[0m\u001B[0m_probB\u001B[0m\u001B[0;34m,\u001B[0m\u001B[0;34m\u001B[0m\u001B[0;34m\u001B[0m\u001B[0m\n\u001B[1;32m    314\u001B[0m             \u001B[0mself\u001B[0m\u001B[0;34m.\u001B[0m\u001B[0mfit_status_\u001B[0m\u001B[0;34m,\u001B[0m\u001B[0;34m\u001B[0m\u001B[0;34m\u001B[0m\u001B[0m\n\u001B[0;32m--> 315\u001B[0;31m         \u001B[0;34m)\u001B[0m \u001B[0;34m=\u001B[0m \u001B[0mlibsvm\u001B[0m\u001B[0;34m.\u001B[0m\u001B[0mfit\u001B[0m\u001B[0;34m(\u001B[0m\u001B[0;34m\u001B[0m\u001B[0;34m\u001B[0m\u001B[0m\n\u001B[0m\u001B[1;32m    316\u001B[0m             \u001B[0mX\u001B[0m\u001B[0;34m,\u001B[0m\u001B[0;34m\u001B[0m\u001B[0;34m\u001B[0m\u001B[0m\n\u001B[1;32m    317\u001B[0m             \u001B[0my\u001B[0m\u001B[0;34m,\u001B[0m\u001B[0;34m\u001B[0m\u001B[0;34m\u001B[0m\u001B[0m\n",
      "\u001B[0;32msklearn/svm/_libsvm.pyx\u001B[0m in \u001B[0;36msklearn.svm._libsvm.fit\u001B[0;34m()\u001B[0m\n",
      "\u001B[0;31mTypeError\u001B[0m: must be real number, not NoneType"
     ]
    }
   ],
   "source": [
    "from sklearn.svm import SVC\n",
    "\n",
    "m = SVC(kernel=\"linear\", gamma=10)\n",
    "m.fit(X_train, y_train)"
   ],
   "metadata": {
    "collapsed": false
   }
  },
  {
   "cell_type": "code",
   "execution_count": 55,
   "outputs": [
    {
     "data": {
      "text/plain": "0.9722222222222222"
     },
     "execution_count": 55,
     "metadata": {},
     "output_type": "execute_result"
    }
   ],
   "source": [
    "m.score(X_test, y_test)  #Without"
   ],
   "metadata": {
    "collapsed": false
   }
  },
  {
   "cell_type": "code",
   "execution_count": null,
   "outputs": [],
   "source": [
    "m.score(X_test, y_test)  #Gamma"
   ],
   "metadata": {
    "collapsed": false
   }
  },
  {
   "cell_type": "code",
   "execution_count": 68,
   "outputs": [
    {
     "name": "stdout",
     "output_type": "stream",
     "text": [
      "{}:score 0.9888888888888889\n",
      "{'gamma': 10}:score 0.08611111111111111\n",
      "{'gamma': 11}:score 0.08611111111111111\n",
      "{'gamma': 12}:score 0.08611111111111111\n",
      "{'gamma': 13}:score 0.08611111111111111\n",
      "{'gamma': 14}:score 0.08611111111111111\n",
      "{'gamma': 15}:score 0.08611111111111111\n",
      "{'gamma': 16}:score 0.08611111111111111\n",
      "{'gamma': 17}:score 0.08611111111111111\n",
      "{'gamma': 18}:score 0.08611111111111111\n",
      "{'gamma': 19}:score 0.08611111111111111\n",
      "{'gamma': 20}:score 0.08611111111111111\n",
      "{'gamma': 21}:score 0.08611111111111111\n",
      "{'gamma': 22}:score 0.08611111111111111\n",
      "{'gamma': 23}:score 0.08611111111111111\n",
      "{'gamma': 24}:score 0.08611111111111111\n",
      "{'gamma': 25}:score 0.08611111111111111\n",
      "{'gamma': 26}:score 0.08611111111111111\n",
      "{'gamma': 27}:score 0.08611111111111111\n",
      "{'gamma': 28}:score 0.08611111111111111\n",
      "{'gamma': 29}:score 0.08611111111111111\n",
      "{'gamma': 30}:score 0.08611111111111111\n",
      "{'gamma': 31}:score 0.08611111111111111\n",
      "{'gamma': 32}:score 0.08611111111111111\n",
      "{'gamma': 33}:score 0.08611111111111111\n",
      "{'gamma': 34}:score 0.08611111111111111\n",
      "{'gamma': 35}:score 0.08611111111111111\n",
      "{'gamma': 36}:score 0.08611111111111111\n",
      "{'gamma': 37}:score 0.08611111111111111\n",
      "{'gamma': 38}:score 0.08611111111111111\n",
      "{'gamma': 39}:score 0.08611111111111111\n",
      "{'gamma': 40}:score 0.08611111111111111\n",
      "{'gamma': 41}:score 0.08611111111111111\n",
      "{'gamma': 42}:score 0.08611111111111111\n",
      "{'gamma': 43}:score 0.08611111111111111\n",
      "{'gamma': 44}:score 0.08611111111111111\n",
      "{'gamma': 45}:score 0.08611111111111111\n",
      "{'gamma': 46}:score 0.08611111111111111\n",
      "{'gamma': 47}:score 0.08611111111111111\n",
      "{'gamma': 48}:score 0.08611111111111111\n",
      "{'gamma': 49}:score 0.08611111111111111\n",
      "{'gamma': 50}:score 0.08611111111111111\n",
      "{'gamma': 51}:score 0.08611111111111111\n",
      "{'gamma': 52}:score 0.08611111111111111\n",
      "{'gamma': 53}:score 0.08611111111111111\n",
      "{'gamma': 54}:score 0.08611111111111111\n",
      "{'gamma': 55}:score 0.08611111111111111\n",
      "{'gamma': 56}:score 0.08611111111111111\n",
      "{'gamma': 57}:score 0.08611111111111111\n",
      "{'gamma': 58}:score 0.08611111111111111\n",
      "{'gamma': 59}:score 0.08611111111111111\n",
      "{'gamma': 60}:score 0.08611111111111111\n",
      "{'gamma': 61}:score 0.08611111111111111\n",
      "{'gamma': 62}:score 0.08611111111111111\n",
      "{'gamma': 63}:score 0.08611111111111111\n",
      "{'gamma': 64}:score 0.08611111111111111\n",
      "{'gamma': 65}:score 0.08611111111111111\n",
      "{'gamma': 66}:score 0.08611111111111111\n",
      "{'gamma': 67}:score 0.08611111111111111\n",
      "{'gamma': 68}:score 0.08611111111111111\n",
      "{'gamma': 69}:score 0.08611111111111111\n",
      "{'gamma': 70}:score 0.08611111111111111\n",
      "{'gamma': 71}:score 0.08611111111111111\n",
      "{'gamma': 72}:score 0.08611111111111111\n",
      "{'gamma': 73}:score 0.08611111111111111\n",
      "{'gamma': 74}:score 0.08611111111111111\n",
      "{'gamma': 75}:score 0.08611111111111111\n",
      "{'gamma': 76}:score 0.08611111111111111\n",
      "{'gamma': 77}:score 0.08611111111111111\n",
      "{'gamma': 78}:score 0.08611111111111111\n",
      "{'gamma': 79}:score 0.08611111111111111\n",
      "{'gamma': 80}:score 0.08611111111111111\n",
      "{'gamma': 81}:score 0.08611111111111111\n",
      "{'gamma': 82}:score 0.08611111111111111\n",
      "{'gamma': 83}:score 0.08611111111111111\n",
      "{'gamma': 84}:score 0.08611111111111111\n",
      "{'gamma': 85}:score 0.08611111111111111\n",
      "{'gamma': 86}:score 0.08611111111111111\n",
      "{'gamma': 87}:score 0.08611111111111111\n",
      "{'gamma': 88}:score 0.08611111111111111\n",
      "{'gamma': 89}:score 0.08611111111111111\n",
      "{'gamma': 90}:score 0.08611111111111111\n",
      "{'gamma': 91}:score 0.08611111111111111\n",
      "{'gamma': 92}:score 0.08611111111111111\n",
      "{'gamma': 93}:score 0.08611111111111111\n",
      "{'gamma': 94}:score 0.08611111111111111\n",
      "{'gamma': 95}:score 0.08611111111111111\n",
      "{'gamma': 96}:score 0.08611111111111111\n",
      "{'gamma': 97}:score 0.08611111111111111\n",
      "{'gamma': 98}:score 0.08611111111111111\n",
      "{'gamma': 99}:score 0.08611111111111111\n",
      "{'kernel': 'linear'}:score 0.9722222222222222\n",
      "{'kernel': 'linear', 'gamma': 10}:score 0.9722222222222222\n",
      "{'kernel': 'linear', 'gamma': 11}:score 0.9722222222222222\n",
      "{'kernel': 'linear', 'gamma': 12}:score 0.9722222222222222\n",
      "{'kernel': 'linear', 'gamma': 13}:score 0.9722222222222222\n",
      "{'kernel': 'linear', 'gamma': 14}:score 0.9722222222222222\n",
      "{'kernel': 'linear', 'gamma': 15}:score 0.9722222222222222\n",
      "{'kernel': 'linear', 'gamma': 16}:score 0.9722222222222222\n",
      "{'kernel': 'linear', 'gamma': 17}:score 0.9722222222222222\n",
      "{'kernel': 'linear', 'gamma': 18}:score 0.9722222222222222\n",
      "{'kernel': 'linear', 'gamma': 19}:score 0.9722222222222222\n",
      "{'kernel': 'linear', 'gamma': 20}:score 0.9722222222222222\n",
      "{'kernel': 'linear', 'gamma': 21}:score 0.9722222222222222\n",
      "{'kernel': 'linear', 'gamma': 22}:score 0.9722222222222222\n",
      "{'kernel': 'linear', 'gamma': 23}:score 0.9722222222222222\n",
      "{'kernel': 'linear', 'gamma': 24}:score 0.9722222222222222\n",
      "{'kernel': 'linear', 'gamma': 25}:score 0.9722222222222222\n",
      "{'kernel': 'linear', 'gamma': 26}:score 0.9722222222222222\n",
      "{'kernel': 'linear', 'gamma': 27}:score 0.9722222222222222\n",
      "{'kernel': 'linear', 'gamma': 28}:score 0.9722222222222222\n",
      "{'kernel': 'linear', 'gamma': 29}:score 0.9722222222222222\n",
      "{'kernel': 'linear', 'gamma': 30}:score 0.9722222222222222\n",
      "{'kernel': 'linear', 'gamma': 31}:score 0.9722222222222222\n",
      "{'kernel': 'linear', 'gamma': 32}:score 0.9722222222222222\n",
      "{'kernel': 'linear', 'gamma': 33}:score 0.9722222222222222\n",
      "{'kernel': 'linear', 'gamma': 34}:score 0.9722222222222222\n",
      "{'kernel': 'linear', 'gamma': 35}:score 0.9722222222222222\n",
      "{'kernel': 'linear', 'gamma': 36}:score 0.9722222222222222\n",
      "{'kernel': 'linear', 'gamma': 37}:score 0.9722222222222222\n",
      "{'kernel': 'linear', 'gamma': 38}:score 0.9722222222222222\n",
      "{'kernel': 'linear', 'gamma': 39}:score 0.9722222222222222\n",
      "{'kernel': 'linear', 'gamma': 40}:score 0.9722222222222222\n",
      "{'kernel': 'linear', 'gamma': 41}:score 0.9722222222222222\n",
      "{'kernel': 'linear', 'gamma': 42}:score 0.9722222222222222\n",
      "{'kernel': 'linear', 'gamma': 43}:score 0.9722222222222222\n",
      "{'kernel': 'linear', 'gamma': 44}:score 0.9722222222222222\n",
      "{'kernel': 'linear', 'gamma': 45}:score 0.9722222222222222\n",
      "{'kernel': 'linear', 'gamma': 46}:score 0.9722222222222222\n",
      "{'kernel': 'linear', 'gamma': 47}:score 0.9722222222222222\n",
      "{'kernel': 'linear', 'gamma': 48}:score 0.9722222222222222\n",
      "{'kernel': 'linear', 'gamma': 49}:score 0.9722222222222222\n",
      "{'kernel': 'linear', 'gamma': 50}:score 0.9722222222222222\n",
      "{'kernel': 'linear', 'gamma': 51}:score 0.9722222222222222\n",
      "{'kernel': 'linear', 'gamma': 52}:score 0.9722222222222222\n",
      "{'kernel': 'linear', 'gamma': 53}:score 0.9722222222222222\n",
      "{'kernel': 'linear', 'gamma': 54}:score 0.9722222222222222\n",
      "{'kernel': 'linear', 'gamma': 55}:score 0.9722222222222222\n",
      "{'kernel': 'linear', 'gamma': 56}:score 0.9722222222222222\n",
      "{'kernel': 'linear', 'gamma': 57}:score 0.9722222222222222\n",
      "{'kernel': 'linear', 'gamma': 58}:score 0.9722222222222222\n",
      "{'kernel': 'linear', 'gamma': 59}:score 0.9722222222222222\n",
      "{'kernel': 'linear', 'gamma': 60}:score 0.9722222222222222\n",
      "{'kernel': 'linear', 'gamma': 61}:score 0.9722222222222222\n",
      "{'kernel': 'linear', 'gamma': 62}:score 0.9722222222222222\n",
      "{'kernel': 'linear', 'gamma': 63}:score 0.9722222222222222\n",
      "{'kernel': 'linear', 'gamma': 64}:score 0.9722222222222222\n",
      "{'kernel': 'linear', 'gamma': 65}:score 0.9722222222222222\n",
      "{'kernel': 'linear', 'gamma': 66}:score 0.9722222222222222\n",
      "{'kernel': 'linear', 'gamma': 67}:score 0.9722222222222222\n",
      "{'kernel': 'linear', 'gamma': 68}:score 0.9722222222222222\n",
      "{'kernel': 'linear', 'gamma': 69}:score 0.9722222222222222\n",
      "{'kernel': 'linear', 'gamma': 70}:score 0.9722222222222222\n",
      "{'kernel': 'linear', 'gamma': 71}:score 0.9722222222222222\n",
      "{'kernel': 'linear', 'gamma': 72}:score 0.9722222222222222\n",
      "{'kernel': 'linear', 'gamma': 73}:score 0.9722222222222222\n",
      "{'kernel': 'linear', 'gamma': 74}:score 0.9722222222222222\n",
      "{'kernel': 'linear', 'gamma': 75}:score 0.9722222222222222\n",
      "{'kernel': 'linear', 'gamma': 76}:score 0.9722222222222222\n",
      "{'kernel': 'linear', 'gamma': 77}:score 0.9722222222222222\n",
      "{'kernel': 'linear', 'gamma': 78}:score 0.9722222222222222\n",
      "{'kernel': 'linear', 'gamma': 79}:score 0.9722222222222222\n",
      "{'kernel': 'linear', 'gamma': 80}:score 0.9722222222222222\n",
      "{'kernel': 'linear', 'gamma': 81}:score 0.9722222222222222\n",
      "{'kernel': 'linear', 'gamma': 82}:score 0.9722222222222222\n",
      "{'kernel': 'linear', 'gamma': 83}:score 0.9722222222222222\n",
      "{'kernel': 'linear', 'gamma': 84}:score 0.9722222222222222\n",
      "{'kernel': 'linear', 'gamma': 85}:score 0.9722222222222222\n",
      "{'kernel': 'linear', 'gamma': 86}:score 0.9722222222222222\n",
      "{'kernel': 'linear', 'gamma': 87}:score 0.9722222222222222\n",
      "{'kernel': 'linear', 'gamma': 88}:score 0.9722222222222222\n",
      "{'kernel': 'linear', 'gamma': 89}:score 0.9722222222222222\n",
      "{'kernel': 'linear', 'gamma': 90}:score 0.9722222222222222\n",
      "{'kernel': 'linear', 'gamma': 91}:score 0.9722222222222222\n",
      "{'kernel': 'linear', 'gamma': 92}:score 0.9722222222222222\n",
      "{'kernel': 'linear', 'gamma': 93}:score 0.9722222222222222\n",
      "{'kernel': 'linear', 'gamma': 94}:score 0.9722222222222222\n",
      "{'kernel': 'linear', 'gamma': 95}:score 0.9722222222222222\n",
      "{'kernel': 'linear', 'gamma': 96}:score 0.9722222222222222\n",
      "{'kernel': 'linear', 'gamma': 97}:score 0.9722222222222222\n",
      "{'kernel': 'linear', 'gamma': 98}:score 0.9722222222222222\n",
      "{'kernel': 'linear', 'gamma': 99}:score 0.9722222222222222\n",
      "{'kernel': 'rbf'}:score 0.9888888888888889\n",
      "{'kernel': 'rbf', 'gamma': 10}:score 0.08611111111111111\n",
      "{'kernel': 'rbf', 'gamma': 11}:score 0.08611111111111111\n",
      "{'kernel': 'rbf', 'gamma': 12}:score 0.08611111111111111\n",
      "{'kernel': 'rbf', 'gamma': 13}:score 0.08611111111111111\n",
      "{'kernel': 'rbf', 'gamma': 14}:score 0.08611111111111111\n",
      "{'kernel': 'rbf', 'gamma': 15}:score 0.08611111111111111\n",
      "{'kernel': 'rbf', 'gamma': 16}:score 0.08611111111111111\n",
      "{'kernel': 'rbf', 'gamma': 17}:score 0.08611111111111111\n",
      "{'kernel': 'rbf', 'gamma': 18}:score 0.08611111111111111\n",
      "{'kernel': 'rbf', 'gamma': 19}:score 0.08611111111111111\n",
      "{'kernel': 'rbf', 'gamma': 20}:score 0.08611111111111111\n",
      "{'kernel': 'rbf', 'gamma': 21}:score 0.08611111111111111\n",
      "{'kernel': 'rbf', 'gamma': 22}:score 0.08611111111111111\n",
      "{'kernel': 'rbf', 'gamma': 23}:score 0.08611111111111111\n",
      "{'kernel': 'rbf', 'gamma': 24}:score 0.08611111111111111\n",
      "{'kernel': 'rbf', 'gamma': 25}:score 0.08611111111111111\n",
      "{'kernel': 'rbf', 'gamma': 26}:score 0.08611111111111111\n",
      "{'kernel': 'rbf', 'gamma': 27}:score 0.08611111111111111\n",
      "{'kernel': 'rbf', 'gamma': 28}:score 0.08611111111111111\n",
      "{'kernel': 'rbf', 'gamma': 29}:score 0.08611111111111111\n",
      "{'kernel': 'rbf', 'gamma': 30}:score 0.08611111111111111\n",
      "{'kernel': 'rbf', 'gamma': 31}:score 0.08611111111111111\n",
      "{'kernel': 'rbf', 'gamma': 32}:score 0.08611111111111111\n",
      "{'kernel': 'rbf', 'gamma': 33}:score 0.08611111111111111\n",
      "{'kernel': 'rbf', 'gamma': 34}:score 0.08611111111111111\n",
      "{'kernel': 'rbf', 'gamma': 35}:score 0.08611111111111111\n",
      "{'kernel': 'rbf', 'gamma': 36}:score 0.08611111111111111\n",
      "{'kernel': 'rbf', 'gamma': 37}:score 0.08611111111111111\n",
      "{'kernel': 'rbf', 'gamma': 38}:score 0.08611111111111111\n",
      "{'kernel': 'rbf', 'gamma': 39}:score 0.08611111111111111\n",
      "{'kernel': 'rbf', 'gamma': 40}:score 0.08611111111111111\n",
      "{'kernel': 'rbf', 'gamma': 41}:score 0.08611111111111111\n",
      "{'kernel': 'rbf', 'gamma': 42}:score 0.08611111111111111\n",
      "{'kernel': 'rbf', 'gamma': 43}:score 0.08611111111111111\n",
      "{'kernel': 'rbf', 'gamma': 44}:score 0.08611111111111111\n",
      "{'kernel': 'rbf', 'gamma': 45}:score 0.08611111111111111\n",
      "{'kernel': 'rbf', 'gamma': 46}:score 0.08611111111111111\n",
      "{'kernel': 'rbf', 'gamma': 47}:score 0.08611111111111111\n",
      "{'kernel': 'rbf', 'gamma': 48}:score 0.08611111111111111\n",
      "{'kernel': 'rbf', 'gamma': 49}:score 0.08611111111111111\n",
      "{'kernel': 'rbf', 'gamma': 50}:score 0.08611111111111111\n",
      "{'kernel': 'rbf', 'gamma': 51}:score 0.08611111111111111\n",
      "{'kernel': 'rbf', 'gamma': 52}:score 0.08611111111111111\n",
      "{'kernel': 'rbf', 'gamma': 53}:score 0.08611111111111111\n",
      "{'kernel': 'rbf', 'gamma': 54}:score 0.08611111111111111\n",
      "{'kernel': 'rbf', 'gamma': 55}:score 0.08611111111111111\n",
      "{'kernel': 'rbf', 'gamma': 56}:score 0.08611111111111111\n",
      "{'kernel': 'rbf', 'gamma': 57}:score 0.08611111111111111\n",
      "{'kernel': 'rbf', 'gamma': 58}:score 0.08611111111111111\n",
      "{'kernel': 'rbf', 'gamma': 59}:score 0.08611111111111111\n",
      "{'kernel': 'rbf', 'gamma': 60}:score 0.08611111111111111\n",
      "{'kernel': 'rbf', 'gamma': 61}:score 0.08611111111111111\n",
      "{'kernel': 'rbf', 'gamma': 62}:score 0.08611111111111111\n",
      "{'kernel': 'rbf', 'gamma': 63}:score 0.08611111111111111\n",
      "{'kernel': 'rbf', 'gamma': 64}:score 0.08611111111111111\n",
      "{'kernel': 'rbf', 'gamma': 65}:score 0.08611111111111111\n",
      "{'kernel': 'rbf', 'gamma': 66}:score 0.08611111111111111\n",
      "{'kernel': 'rbf', 'gamma': 67}:score 0.08611111111111111\n",
      "{'kernel': 'rbf', 'gamma': 68}:score 0.08611111111111111\n",
      "{'kernel': 'rbf', 'gamma': 69}:score 0.08611111111111111\n",
      "{'kernel': 'rbf', 'gamma': 70}:score 0.08611111111111111\n",
      "{'kernel': 'rbf', 'gamma': 71}:score 0.08611111111111111\n",
      "{'kernel': 'rbf', 'gamma': 72}:score 0.08611111111111111\n",
      "{'kernel': 'rbf', 'gamma': 73}:score 0.08611111111111111\n",
      "{'kernel': 'rbf', 'gamma': 74}:score 0.08611111111111111\n",
      "{'kernel': 'rbf', 'gamma': 75}:score 0.08611111111111111\n",
      "{'kernel': 'rbf', 'gamma': 76}:score 0.08611111111111111\n",
      "{'kernel': 'rbf', 'gamma': 77}:score 0.08611111111111111\n",
      "{'kernel': 'rbf', 'gamma': 78}:score 0.08611111111111111\n",
      "{'kernel': 'rbf', 'gamma': 79}:score 0.08611111111111111\n",
      "{'kernel': 'rbf', 'gamma': 80}:score 0.08611111111111111\n",
      "{'kernel': 'rbf', 'gamma': 81}:score 0.08611111111111111\n",
      "{'kernel': 'rbf', 'gamma': 82}:score 0.08611111111111111\n",
      "{'kernel': 'rbf', 'gamma': 83}:score 0.08611111111111111\n",
      "{'kernel': 'rbf', 'gamma': 84}:score 0.08611111111111111\n",
      "{'kernel': 'rbf', 'gamma': 85}:score 0.08611111111111111\n",
      "{'kernel': 'rbf', 'gamma': 86}:score 0.08611111111111111\n",
      "{'kernel': 'rbf', 'gamma': 87}:score 0.08611111111111111\n",
      "{'kernel': 'rbf', 'gamma': 88}:score 0.08611111111111111\n",
      "{'kernel': 'rbf', 'gamma': 89}:score 0.08611111111111111\n",
      "{'kernel': 'rbf', 'gamma': 90}:score 0.08611111111111111\n",
      "{'kernel': 'rbf', 'gamma': 91}:score 0.08611111111111111\n",
      "{'kernel': 'rbf', 'gamma': 92}:score 0.08611111111111111\n",
      "{'kernel': 'rbf', 'gamma': 93}:score 0.08611111111111111\n",
      "{'kernel': 'rbf', 'gamma': 94}:score 0.08611111111111111\n",
      "{'kernel': 'rbf', 'gamma': 95}:score 0.08611111111111111\n",
      "{'kernel': 'rbf', 'gamma': 96}:score 0.08611111111111111\n",
      "{'kernel': 'rbf', 'gamma': 97}:score 0.08611111111111111\n",
      "{'kernel': 'rbf', 'gamma': 98}:score 0.08611111111111111\n",
      "{'kernel': 'rbf', 'gamma': 99}:score 0.08611111111111111\n"
     ]
    }
   ],
   "source": [
    "test_cases = [\n",
    "    {},\n",
    "    {\n",
    "        \"kernel\": \"linear\",\n",
    "        # \"gamma\":10\n",
    "    },\n",
    "    {\n",
    "        \"kernel\": \"rbf\",\n",
    "        # \"gamma\":10\n",
    "    }\n",
    "]\n",
    "\n",
    "\n",
    "def test_model(test_case):\n",
    "    m = SVC(**test_case)\n",
    "    m.fit(X_train, y_train)\n",
    "    score = m.score(X_test, y_test)\n",
    "    print(f\"{test_case}:score {score}\")\n",
    "\n",
    "\n",
    "for test_case in test_cases:\n",
    "    test_model(test_case)\n",
    "    if \"gamma\" not in test_case:\n",
    "        for i in range(10, 100):\n",
    "            test_case[\"gamma\"] = i\n",
    "            test_model(test_case)\n",
    "\n",
    "\n",
    "\n",
    "\n",
    "\n"
   ],
   "metadata": {
    "collapsed": false
   }
  },
  {
   "cell_type": "code",
   "execution_count": null,
   "outputs": [],
   "source": [],
   "metadata": {
    "collapsed": false
   }
  },
  {
   "cell_type": "code",
   "execution_count": null,
   "outputs": [],
   "source": [],
   "metadata": {
    "collapsed": false
   }
  }
 ],
 "metadata": {
  "kernelspec": {
   "display_name": "Python 3",
   "language": "python",
   "name": "python3"
  },
  "language_info": {
   "codemirror_mode": {
    "name": "ipython",
    "version": 2
   },
   "file_extension": ".py",
   "mimetype": "text/x-python",
   "name": "python",
   "nbconvert_exporter": "python",
   "pygments_lexer": "ipython2",
   "version": "2.7.6"
  }
 },
 "nbformat": 4,
 "nbformat_minor": 0
}
