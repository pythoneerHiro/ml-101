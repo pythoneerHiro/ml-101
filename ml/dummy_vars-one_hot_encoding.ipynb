{
 "cells": [
  {
   "cell_type": "code",
   "execution_count": 1,
   "metadata": {
    "collapsed": true
   },
   "outputs": [
    {
     "data": {
      "text/plain": "               town  area   price\n0   monroe township  2600  550000\n1   monroe township  3000  565000\n2   monroe township  3200  610000\n3   monroe township  3600  680000\n4   monroe township  4000  725000\n5      west windsor  2600  585000\n6      west windsor  2800  615000\n7      west windsor  3300  650000\n8      west windsor  3600  710000\n9       robinsville  2600  575000\n10      robinsville  2900  600000\n11      robinsville  3100  620000\n12      robinsville  3600  695000",
      "text/html": "<div>\n<style scoped>\n    .dataframe tbody tr th:only-of-type {\n        vertical-align: middle;\n    }\n\n    .dataframe tbody tr th {\n        vertical-align: top;\n    }\n\n    .dataframe thead th {\n        text-align: right;\n    }\n</style>\n<table border=\"1\" class=\"dataframe\">\n  <thead>\n    <tr style=\"text-align: right;\">\n      <th></th>\n      <th>town</th>\n      <th>area</th>\n      <th>price</th>\n    </tr>\n  </thead>\n  <tbody>\n    <tr>\n      <th>0</th>\n      <td>monroe township</td>\n      <td>2600</td>\n      <td>550000</td>\n    </tr>\n    <tr>\n      <th>1</th>\n      <td>monroe township</td>\n      <td>3000</td>\n      <td>565000</td>\n    </tr>\n    <tr>\n      <th>2</th>\n      <td>monroe township</td>\n      <td>3200</td>\n      <td>610000</td>\n    </tr>\n    <tr>\n      <th>3</th>\n      <td>monroe township</td>\n      <td>3600</td>\n      <td>680000</td>\n    </tr>\n    <tr>\n      <th>4</th>\n      <td>monroe township</td>\n      <td>4000</td>\n      <td>725000</td>\n    </tr>\n    <tr>\n      <th>5</th>\n      <td>west windsor</td>\n      <td>2600</td>\n      <td>585000</td>\n    </tr>\n    <tr>\n      <th>6</th>\n      <td>west windsor</td>\n      <td>2800</td>\n      <td>615000</td>\n    </tr>\n    <tr>\n      <th>7</th>\n      <td>west windsor</td>\n      <td>3300</td>\n      <td>650000</td>\n    </tr>\n    <tr>\n      <th>8</th>\n      <td>west windsor</td>\n      <td>3600</td>\n      <td>710000</td>\n    </tr>\n    <tr>\n      <th>9</th>\n      <td>robinsville</td>\n      <td>2600</td>\n      <td>575000</td>\n    </tr>\n    <tr>\n      <th>10</th>\n      <td>robinsville</td>\n      <td>2900</td>\n      <td>600000</td>\n    </tr>\n    <tr>\n      <th>11</th>\n      <td>robinsville</td>\n      <td>3100</td>\n      <td>620000</td>\n    </tr>\n    <tr>\n      <th>12</th>\n      <td>robinsville</td>\n      <td>3600</td>\n      <td>695000</td>\n    </tr>\n  </tbody>\n</table>\n</div>"
     },
     "execution_count": 1,
     "metadata": {},
     "output_type": "execute_result"
    }
   ],
   "source": [
    "import pandas as pd\n",
    "\n",
    "df = pd.read_csv('dataset/homeprices-one_hot_encoding.csv')\n",
    "df"
   ]
  },
  {
   "cell_type": "code",
   "execution_count": 2,
   "outputs": [
    {
     "data": {
      "text/plain": "    monroe township  robinsville  west windsor\n0                 1            0             0\n1                 1            0             0\n2                 1            0             0\n3                 1            0             0\n4                 1            0             0\n5                 0            0             1\n6                 0            0             1\n7                 0            0             1\n8                 0            0             1\n9                 0            1             0\n10                0            1             0\n11                0            1             0\n12                0            1             0",
      "text/html": "<div>\n<style scoped>\n    .dataframe tbody tr th:only-of-type {\n        vertical-align: middle;\n    }\n\n    .dataframe tbody tr th {\n        vertical-align: top;\n    }\n\n    .dataframe thead th {\n        text-align: right;\n    }\n</style>\n<table border=\"1\" class=\"dataframe\">\n  <thead>\n    <tr style=\"text-align: right;\">\n      <th></th>\n      <th>monroe township</th>\n      <th>robinsville</th>\n      <th>west windsor</th>\n    </tr>\n  </thead>\n  <tbody>\n    <tr>\n      <th>0</th>\n      <td>1</td>\n      <td>0</td>\n      <td>0</td>\n    </tr>\n    <tr>\n      <th>1</th>\n      <td>1</td>\n      <td>0</td>\n      <td>0</td>\n    </tr>\n    <tr>\n      <th>2</th>\n      <td>1</td>\n      <td>0</td>\n      <td>0</td>\n    </tr>\n    <tr>\n      <th>3</th>\n      <td>1</td>\n      <td>0</td>\n      <td>0</td>\n    </tr>\n    <tr>\n      <th>4</th>\n      <td>1</td>\n      <td>0</td>\n      <td>0</td>\n    </tr>\n    <tr>\n      <th>5</th>\n      <td>0</td>\n      <td>0</td>\n      <td>1</td>\n    </tr>\n    <tr>\n      <th>6</th>\n      <td>0</td>\n      <td>0</td>\n      <td>1</td>\n    </tr>\n    <tr>\n      <th>7</th>\n      <td>0</td>\n      <td>0</td>\n      <td>1</td>\n    </tr>\n    <tr>\n      <th>8</th>\n      <td>0</td>\n      <td>0</td>\n      <td>1</td>\n    </tr>\n    <tr>\n      <th>9</th>\n      <td>0</td>\n      <td>1</td>\n      <td>0</td>\n    </tr>\n    <tr>\n      <th>10</th>\n      <td>0</td>\n      <td>1</td>\n      <td>0</td>\n    </tr>\n    <tr>\n      <th>11</th>\n      <td>0</td>\n      <td>1</td>\n      <td>0</td>\n    </tr>\n    <tr>\n      <th>12</th>\n      <td>0</td>\n      <td>1</td>\n      <td>0</td>\n    </tr>\n  </tbody>\n</table>\n</div>"
     },
     "execution_count": 2,
     "metadata": {},
     "output_type": "execute_result"
    }
   ],
   "source": [
    "dummies_df = pd.get_dummies(df.town)  # u can pass the df directly too\n",
    "dummies_df"
   ],
   "metadata": {
    "collapsed": false
   }
  },
  {
   "cell_type": "code",
   "execution_count": 3,
   "outputs": [
    {
     "data": {
      "text/plain": "    area   price  town_monroe township  town_robinsville  town_west windsor\n0   2600  550000                     1                 0                  0\n1   3000  565000                     1                 0                  0\n2   3200  610000                     1                 0                  0\n3   3600  680000                     1                 0                  0\n4   4000  725000                     1                 0                  0\n5   2600  585000                     0                 0                  1\n6   2800  615000                     0                 0                  1\n7   3300  650000                     0                 0                  1\n8   3600  710000                     0                 0                  1\n9   2600  575000                     0                 1                  0\n10  2900  600000                     0                 1                  0\n11  3100  620000                     0                 1                  0\n12  3600  695000                     0                 1                  0",
      "text/html": "<div>\n<style scoped>\n    .dataframe tbody tr th:only-of-type {\n        vertical-align: middle;\n    }\n\n    .dataframe tbody tr th {\n        vertical-align: top;\n    }\n\n    .dataframe thead th {\n        text-align: right;\n    }\n</style>\n<table border=\"1\" class=\"dataframe\">\n  <thead>\n    <tr style=\"text-align: right;\">\n      <th></th>\n      <th>area</th>\n      <th>price</th>\n      <th>town_monroe township</th>\n      <th>town_robinsville</th>\n      <th>town_west windsor</th>\n    </tr>\n  </thead>\n  <tbody>\n    <tr>\n      <th>0</th>\n      <td>2600</td>\n      <td>550000</td>\n      <td>1</td>\n      <td>0</td>\n      <td>0</td>\n    </tr>\n    <tr>\n      <th>1</th>\n      <td>3000</td>\n      <td>565000</td>\n      <td>1</td>\n      <td>0</td>\n      <td>0</td>\n    </tr>\n    <tr>\n      <th>2</th>\n      <td>3200</td>\n      <td>610000</td>\n      <td>1</td>\n      <td>0</td>\n      <td>0</td>\n    </tr>\n    <tr>\n      <th>3</th>\n      <td>3600</td>\n      <td>680000</td>\n      <td>1</td>\n      <td>0</td>\n      <td>0</td>\n    </tr>\n    <tr>\n      <th>4</th>\n      <td>4000</td>\n      <td>725000</td>\n      <td>1</td>\n      <td>0</td>\n      <td>0</td>\n    </tr>\n    <tr>\n      <th>5</th>\n      <td>2600</td>\n      <td>585000</td>\n      <td>0</td>\n      <td>0</td>\n      <td>1</td>\n    </tr>\n    <tr>\n      <th>6</th>\n      <td>2800</td>\n      <td>615000</td>\n      <td>0</td>\n      <td>0</td>\n      <td>1</td>\n    </tr>\n    <tr>\n      <th>7</th>\n      <td>3300</td>\n      <td>650000</td>\n      <td>0</td>\n      <td>0</td>\n      <td>1</td>\n    </tr>\n    <tr>\n      <th>8</th>\n      <td>3600</td>\n      <td>710000</td>\n      <td>0</td>\n      <td>0</td>\n      <td>1</td>\n    </tr>\n    <tr>\n      <th>9</th>\n      <td>2600</td>\n      <td>575000</td>\n      <td>0</td>\n      <td>1</td>\n      <td>0</td>\n    </tr>\n    <tr>\n      <th>10</th>\n      <td>2900</td>\n      <td>600000</td>\n      <td>0</td>\n      <td>1</td>\n      <td>0</td>\n    </tr>\n    <tr>\n      <th>11</th>\n      <td>3100</td>\n      <td>620000</td>\n      <td>0</td>\n      <td>1</td>\n      <td>0</td>\n    </tr>\n    <tr>\n      <th>12</th>\n      <td>3600</td>\n      <td>695000</td>\n      <td>0</td>\n      <td>1</td>\n      <td>0</td>\n    </tr>\n  </tbody>\n</table>\n</div>"
     },
     "execution_count": 3,
     "metadata": {},
     "output_type": "execute_result"
    }
   ],
   "source": [
    "pd.get_dummies(df)"
   ],
   "metadata": {
    "collapsed": false
   }
  },
  {
   "cell_type": "code",
   "execution_count": 4,
   "outputs": [
    {
     "data": {
      "text/plain": "    area  monroe township  robinsville\n0   2600                1            0\n1   3000                1            0\n2   3200                1            0\n3   3600                1            0\n4   4000                1            0\n5   2600                0            0\n6   2800                0            0\n7   3300                0            0\n8   3600                0            0\n9   2600                0            1\n10  2900                0            1\n11  3100                0            1\n12  3600                0            1",
      "text/html": "<div>\n<style scoped>\n    .dataframe tbody tr th:only-of-type {\n        vertical-align: middle;\n    }\n\n    .dataframe tbody tr th {\n        vertical-align: top;\n    }\n\n    .dataframe thead th {\n        text-align: right;\n    }\n</style>\n<table border=\"1\" class=\"dataframe\">\n  <thead>\n    <tr style=\"text-align: right;\">\n      <th></th>\n      <th>area</th>\n      <th>monroe township</th>\n      <th>robinsville</th>\n    </tr>\n  </thead>\n  <tbody>\n    <tr>\n      <th>0</th>\n      <td>2600</td>\n      <td>1</td>\n      <td>0</td>\n    </tr>\n    <tr>\n      <th>1</th>\n      <td>3000</td>\n      <td>1</td>\n      <td>0</td>\n    </tr>\n    <tr>\n      <th>2</th>\n      <td>3200</td>\n      <td>1</td>\n      <td>0</td>\n    </tr>\n    <tr>\n      <th>3</th>\n      <td>3600</td>\n      <td>1</td>\n      <td>0</td>\n    </tr>\n    <tr>\n      <th>4</th>\n      <td>4000</td>\n      <td>1</td>\n      <td>0</td>\n    </tr>\n    <tr>\n      <th>5</th>\n      <td>2600</td>\n      <td>0</td>\n      <td>0</td>\n    </tr>\n    <tr>\n      <th>6</th>\n      <td>2800</td>\n      <td>0</td>\n      <td>0</td>\n    </tr>\n    <tr>\n      <th>7</th>\n      <td>3300</td>\n      <td>0</td>\n      <td>0</td>\n    </tr>\n    <tr>\n      <th>8</th>\n      <td>3600</td>\n      <td>0</td>\n      <td>0</td>\n    </tr>\n    <tr>\n      <th>9</th>\n      <td>2600</td>\n      <td>0</td>\n      <td>1</td>\n    </tr>\n    <tr>\n      <th>10</th>\n      <td>2900</td>\n      <td>0</td>\n      <td>1</td>\n    </tr>\n    <tr>\n      <th>11</th>\n      <td>3100</td>\n      <td>0</td>\n      <td>1</td>\n    </tr>\n    <tr>\n      <th>12</th>\n      <td>3600</td>\n      <td>0</td>\n      <td>1</td>\n    </tr>\n  </tbody>\n</table>\n</div>"
     },
     "execution_count": 4,
     "metadata": {},
     "output_type": "execute_result"
    }
   ],
   "source": [
    "_X = pd.concat([df, dummies_df], axis=1)\n",
    "y = df['price']\n",
    "X = _X.drop(['price', 'west windsor', 'town'],\n",
    "            axis=1)  # droping town_monroe township to prevent Multicolinearity, dummy variable trap (derivable stuff)\n",
    "X"
   ],
   "metadata": {
    "collapsed": false
   }
  },
  {
   "cell_type": "code",
   "execution_count": 5,
   "outputs": [
    {
     "data": {
      "text/plain": "LinearRegression()"
     },
     "execution_count": 5,
     "metadata": {},
     "output_type": "execute_result"
    }
   ],
   "source": [
    "from sklearn.linear_model import LinearRegression\n",
    "\n",
    "m = LinearRegression()\n",
    "m.fit(X, y)"
   ],
   "metadata": {
    "collapsed": false
   }
  },
  {
   "cell_type": "code",
   "execution_count": 6,
   "outputs": [
    {
     "name": "stderr",
     "output_type": "stream",
     "text": [
      "/Users/hiro/opt/anaconda3/lib/python3.9/site-packages/sklearn/base.py:450: UserWarning: X does not have valid feature names, but LinearRegression was fitted with feature names\n",
      "  warnings.warn(\n"
     ]
    },
    {
     "data": {
      "text/plain": "array([630482.69189422])"
     },
     "execution_count": 6,
     "metadata": {},
     "output_type": "execute_result"
    }
   ],
   "source": [
    "label = {\"monroe\": [0, 0], 'robinsville': [0, 1], 'ww': [1, 1]}\n",
    "area = 3000\n",
    "other = label[\"monroe\"]\n",
    "m.predict([[area, *other]])"
   ],
   "metadata": {
    "collapsed": false
   }
  },
  {
   "cell_type": "code",
   "execution_count": 7,
   "outputs": [
    {
     "data": {
      "text/plain": "0.9573929037221873"
     },
     "execution_count": 7,
     "metadata": {},
     "output_type": "execute_result"
    }
   ],
   "source": [
    "m.score(X, y)"
   ],
   "metadata": {
    "collapsed": false
   }
  },
  {
   "cell_type": "markdown",
   "source": [
    "Sklearn's One Hot encoder to do the same thing"
   ],
   "metadata": {
    "collapsed": false
   }
  },
  {
   "cell_type": "code",
   "execution_count": 8,
   "outputs": [],
   "source": [
    "from sklearn.preprocessing import LabelEncoder\n",
    "\n",
    "le = LabelEncoder()"
   ],
   "metadata": {
    "collapsed": false
   }
  },
  {
   "cell_type": "code",
   "execution_count": 9,
   "outputs": [
    {
     "data": {
      "text/plain": "    town  area   price\n0      0  2600  550000\n1      0  3000  565000\n2      0  3200  610000\n3      0  3600  680000\n4      0  4000  725000\n5      2  2600  585000\n6      2  2800  615000\n7      2  3300  650000\n8      2  3600  710000\n9      1  2600  575000\n10     1  2900  600000\n11     1  3100  620000\n12     1  3600  695000",
      "text/html": "<div>\n<style scoped>\n    .dataframe tbody tr th:only-of-type {\n        vertical-align: middle;\n    }\n\n    .dataframe tbody tr th {\n        vertical-align: top;\n    }\n\n    .dataframe thead th {\n        text-align: right;\n    }\n</style>\n<table border=\"1\" class=\"dataframe\">\n  <thead>\n    <tr style=\"text-align: right;\">\n      <th></th>\n      <th>town</th>\n      <th>area</th>\n      <th>price</th>\n    </tr>\n  </thead>\n  <tbody>\n    <tr>\n      <th>0</th>\n      <td>0</td>\n      <td>2600</td>\n      <td>550000</td>\n    </tr>\n    <tr>\n      <th>1</th>\n      <td>0</td>\n      <td>3000</td>\n      <td>565000</td>\n    </tr>\n    <tr>\n      <th>2</th>\n      <td>0</td>\n      <td>3200</td>\n      <td>610000</td>\n    </tr>\n    <tr>\n      <th>3</th>\n      <td>0</td>\n      <td>3600</td>\n      <td>680000</td>\n    </tr>\n    <tr>\n      <th>4</th>\n      <td>0</td>\n      <td>4000</td>\n      <td>725000</td>\n    </tr>\n    <tr>\n      <th>5</th>\n      <td>2</td>\n      <td>2600</td>\n      <td>585000</td>\n    </tr>\n    <tr>\n      <th>6</th>\n      <td>2</td>\n      <td>2800</td>\n      <td>615000</td>\n    </tr>\n    <tr>\n      <th>7</th>\n      <td>2</td>\n      <td>3300</td>\n      <td>650000</td>\n    </tr>\n    <tr>\n      <th>8</th>\n      <td>2</td>\n      <td>3600</td>\n      <td>710000</td>\n    </tr>\n    <tr>\n      <th>9</th>\n      <td>1</td>\n      <td>2600</td>\n      <td>575000</td>\n    </tr>\n    <tr>\n      <th>10</th>\n      <td>1</td>\n      <td>2900</td>\n      <td>600000</td>\n    </tr>\n    <tr>\n      <th>11</th>\n      <td>1</td>\n      <td>3100</td>\n      <td>620000</td>\n    </tr>\n    <tr>\n      <th>12</th>\n      <td>1</td>\n      <td>3600</td>\n      <td>695000</td>\n    </tr>\n  </tbody>\n</table>\n</div>"
     },
     "execution_count": 9,
     "metadata": {},
     "output_type": "execute_result"
    }
   ],
   "source": [
    "df_le = df.copy()\n",
    "df_le.town = le.fit_transform(df_le.town)\n",
    "df_le"
   ],
   "metadata": {
    "collapsed": false
   }
  },
  {
   "cell_type": "code",
   "execution_count": 13,
   "outputs": [
    {
     "data": {
      "text/plain": "    town  area\n0      0  2600\n1      0  3000\n2      0  3200\n3      0  3600\n4      0  4000\n5      2  2600\n6      2  2800\n7      2  3300\n8      2  3600\n9      1  2600\n10     1  2900\n11     1  3100\n12     1  3600",
      "text/html": "<div>\n<style scoped>\n    .dataframe tbody tr th:only-of-type {\n        vertical-align: middle;\n    }\n\n    .dataframe tbody tr th {\n        vertical-align: top;\n    }\n\n    .dataframe thead th {\n        text-align: right;\n    }\n</style>\n<table border=\"1\" class=\"dataframe\">\n  <thead>\n    <tr style=\"text-align: right;\">\n      <th></th>\n      <th>town</th>\n      <th>area</th>\n    </tr>\n  </thead>\n  <tbody>\n    <tr>\n      <th>0</th>\n      <td>0</td>\n      <td>2600</td>\n    </tr>\n    <tr>\n      <th>1</th>\n      <td>0</td>\n      <td>3000</td>\n    </tr>\n    <tr>\n      <th>2</th>\n      <td>0</td>\n      <td>3200</td>\n    </tr>\n    <tr>\n      <th>3</th>\n      <td>0</td>\n      <td>3600</td>\n    </tr>\n    <tr>\n      <th>4</th>\n      <td>0</td>\n      <td>4000</td>\n    </tr>\n    <tr>\n      <th>5</th>\n      <td>2</td>\n      <td>2600</td>\n    </tr>\n    <tr>\n      <th>6</th>\n      <td>2</td>\n      <td>2800</td>\n    </tr>\n    <tr>\n      <th>7</th>\n      <td>2</td>\n      <td>3300</td>\n    </tr>\n    <tr>\n      <th>8</th>\n      <td>2</td>\n      <td>3600</td>\n    </tr>\n    <tr>\n      <th>9</th>\n      <td>1</td>\n      <td>2600</td>\n    </tr>\n    <tr>\n      <th>10</th>\n      <td>1</td>\n      <td>2900</td>\n    </tr>\n    <tr>\n      <th>11</th>\n      <td>1</td>\n      <td>3100</td>\n    </tr>\n    <tr>\n      <th>12</th>\n      <td>1</td>\n      <td>3600</td>\n    </tr>\n  </tbody>\n</table>\n</div>"
     },
     "execution_count": 13,
     "metadata": {},
     "output_type": "execute_result"
    }
   ],
   "source": [
    "X = df_le.drop(['price'], axis=1)\n",
    "y = df_le['price']\n",
    "X"
   ],
   "metadata": {
    "collapsed": false
   }
  },
  {
   "cell_type": "code",
   "execution_count": 27,
   "outputs": [
    {
     "name": "stdout",
     "output_type": "stream",
     "text": [
      "<class 'pandas.core.frame.DataFrame'>\n",
      "RangeIndex: 13 entries, 0 to 12\n",
      "Data columns (total 2 columns):\n",
      " #   Column  Non-Null Count  Dtype   \n",
      "---  ------  --------------  -----   \n",
      " 0   town    13 non-null     category\n",
      " 1   area    13 non-null     int64   \n",
      "dtypes: category(1), int64(1)\n",
      "memory usage: 377.0 bytes\n"
     ]
    }
   ],
   "source": [
    "X.info()"
   ],
   "metadata": {
    "collapsed": false
   }
  },
  {
   "cell_type": "code",
   "execution_count": 36,
   "outputs": [
    {
     "data": {
      "text/plain": "   town  area    0    1    2    3    4    5    6    7    8    9   10   11\n0     0  2600  1.0  0.0  0.0  1.0  0.0  0.0  0.0  0.0  0.0  0.0  0.0  0.0\n1     0  3000  1.0  0.0  0.0  0.0  0.0  0.0  1.0  0.0  0.0  0.0  0.0  0.0\n2     0  3200  1.0  0.0  0.0  0.0  0.0  0.0  0.0  0.0  1.0  0.0  0.0  0.0\n3     0  3600  1.0  0.0  0.0  0.0  0.0  0.0  0.0  0.0  0.0  0.0  1.0  0.0\n4     0  4000  1.0  0.0  0.0  0.0  0.0  0.0  0.0  0.0  0.0  0.0  0.0  1.0\n5     2  2600  0.0  0.0  1.0  1.0  0.0  0.0  0.0  0.0  0.0  0.0  0.0  0.0\n6     2  2800  0.0  0.0  1.0  0.0  1.0  0.0  0.0  0.0  0.0  0.0  0.0  0.0\n7     2  3300  0.0  0.0  1.0  0.0  0.0  0.0  0.0  0.0  0.0  1.0  0.0  0.0\n8     2  3600  0.0  0.0  1.0  0.0  0.0  0.0  0.0  0.0  0.0  0.0  1.0  0.0\n9     1  2600  0.0  1.0  0.0  1.0  0.0  0.0  0.0  0.0  0.0  0.0  0.0  0.0\n10    1  2900  0.0  1.0  0.0  0.0  0.0  1.0  0.0  0.0  0.0  0.0  0.0  0.0\n11    1  3100  0.0  1.0  0.0  0.0  0.0  0.0  0.0  1.0  0.0  0.0  0.0  0.0\n12    1  3600  0.0  1.0  0.0  0.0  0.0  0.0  0.0  0.0  0.0  0.0  1.0  0.0",
      "text/html": "<div>\n<style scoped>\n    .dataframe tbody tr th:only-of-type {\n        vertical-align: middle;\n    }\n\n    .dataframe tbody tr th {\n        vertical-align: top;\n    }\n\n    .dataframe thead th {\n        text-align: right;\n    }\n</style>\n<table border=\"1\" class=\"dataframe\">\n  <thead>\n    <tr style=\"text-align: right;\">\n      <th></th>\n      <th>town</th>\n      <th>area</th>\n      <th>0</th>\n      <th>1</th>\n      <th>2</th>\n      <th>3</th>\n      <th>4</th>\n      <th>5</th>\n      <th>6</th>\n      <th>7</th>\n      <th>8</th>\n      <th>9</th>\n      <th>10</th>\n      <th>11</th>\n    </tr>\n  </thead>\n  <tbody>\n    <tr>\n      <th>0</th>\n      <td>0</td>\n      <td>2600</td>\n      <td>1.0</td>\n      <td>0.0</td>\n      <td>0.0</td>\n      <td>1.0</td>\n      <td>0.0</td>\n      <td>0.0</td>\n      <td>0.0</td>\n      <td>0.0</td>\n      <td>0.0</td>\n      <td>0.0</td>\n      <td>0.0</td>\n      <td>0.0</td>\n    </tr>\n    <tr>\n      <th>1</th>\n      <td>0</td>\n      <td>3000</td>\n      <td>1.0</td>\n      <td>0.0</td>\n      <td>0.0</td>\n      <td>0.0</td>\n      <td>0.0</td>\n      <td>0.0</td>\n      <td>1.0</td>\n      <td>0.0</td>\n      <td>0.0</td>\n      <td>0.0</td>\n      <td>0.0</td>\n      <td>0.0</td>\n    </tr>\n    <tr>\n      <th>2</th>\n      <td>0</td>\n      <td>3200</td>\n      <td>1.0</td>\n      <td>0.0</td>\n      <td>0.0</td>\n      <td>0.0</td>\n      <td>0.0</td>\n      <td>0.0</td>\n      <td>0.0</td>\n      <td>0.0</td>\n      <td>1.0</td>\n      <td>0.0</td>\n      <td>0.0</td>\n      <td>0.0</td>\n    </tr>\n    <tr>\n      <th>3</th>\n      <td>0</td>\n      <td>3600</td>\n      <td>1.0</td>\n      <td>0.0</td>\n      <td>0.0</td>\n      <td>0.0</td>\n      <td>0.0</td>\n      <td>0.0</td>\n      <td>0.0</td>\n      <td>0.0</td>\n      <td>0.0</td>\n      <td>0.0</td>\n      <td>1.0</td>\n      <td>0.0</td>\n    </tr>\n    <tr>\n      <th>4</th>\n      <td>0</td>\n      <td>4000</td>\n      <td>1.0</td>\n      <td>0.0</td>\n      <td>0.0</td>\n      <td>0.0</td>\n      <td>0.0</td>\n      <td>0.0</td>\n      <td>0.0</td>\n      <td>0.0</td>\n      <td>0.0</td>\n      <td>0.0</td>\n      <td>0.0</td>\n      <td>1.0</td>\n    </tr>\n    <tr>\n      <th>5</th>\n      <td>2</td>\n      <td>2600</td>\n      <td>0.0</td>\n      <td>0.0</td>\n      <td>1.0</td>\n      <td>1.0</td>\n      <td>0.0</td>\n      <td>0.0</td>\n      <td>0.0</td>\n      <td>0.0</td>\n      <td>0.0</td>\n      <td>0.0</td>\n      <td>0.0</td>\n      <td>0.0</td>\n    </tr>\n    <tr>\n      <th>6</th>\n      <td>2</td>\n      <td>2800</td>\n      <td>0.0</td>\n      <td>0.0</td>\n      <td>1.0</td>\n      <td>0.0</td>\n      <td>1.0</td>\n      <td>0.0</td>\n      <td>0.0</td>\n      <td>0.0</td>\n      <td>0.0</td>\n      <td>0.0</td>\n      <td>0.0</td>\n      <td>0.0</td>\n    </tr>\n    <tr>\n      <th>7</th>\n      <td>2</td>\n      <td>3300</td>\n      <td>0.0</td>\n      <td>0.0</td>\n      <td>1.0</td>\n      <td>0.0</td>\n      <td>0.0</td>\n      <td>0.0</td>\n      <td>0.0</td>\n      <td>0.0</td>\n      <td>0.0</td>\n      <td>1.0</td>\n      <td>0.0</td>\n      <td>0.0</td>\n    </tr>\n    <tr>\n      <th>8</th>\n      <td>2</td>\n      <td>3600</td>\n      <td>0.0</td>\n      <td>0.0</td>\n      <td>1.0</td>\n      <td>0.0</td>\n      <td>0.0</td>\n      <td>0.0</td>\n      <td>0.0</td>\n      <td>0.0</td>\n      <td>0.0</td>\n      <td>0.0</td>\n      <td>1.0</td>\n      <td>0.0</td>\n    </tr>\n    <tr>\n      <th>9</th>\n      <td>1</td>\n      <td>2600</td>\n      <td>0.0</td>\n      <td>1.0</td>\n      <td>0.0</td>\n      <td>1.0</td>\n      <td>0.0</td>\n      <td>0.0</td>\n      <td>0.0</td>\n      <td>0.0</td>\n      <td>0.0</td>\n      <td>0.0</td>\n      <td>0.0</td>\n      <td>0.0</td>\n    </tr>\n    <tr>\n      <th>10</th>\n      <td>1</td>\n      <td>2900</td>\n      <td>0.0</td>\n      <td>1.0</td>\n      <td>0.0</td>\n      <td>0.0</td>\n      <td>0.0</td>\n      <td>1.0</td>\n      <td>0.0</td>\n      <td>0.0</td>\n      <td>0.0</td>\n      <td>0.0</td>\n      <td>0.0</td>\n      <td>0.0</td>\n    </tr>\n    <tr>\n      <th>11</th>\n      <td>1</td>\n      <td>3100</td>\n      <td>0.0</td>\n      <td>1.0</td>\n      <td>0.0</td>\n      <td>0.0</td>\n      <td>0.0</td>\n      <td>0.0</td>\n      <td>0.0</td>\n      <td>1.0</td>\n      <td>0.0</td>\n      <td>0.0</td>\n      <td>0.0</td>\n      <td>0.0</td>\n    </tr>\n    <tr>\n      <th>12</th>\n      <td>1</td>\n      <td>3600</td>\n      <td>0.0</td>\n      <td>1.0</td>\n      <td>0.0</td>\n      <td>0.0</td>\n      <td>0.0</td>\n      <td>0.0</td>\n      <td>0.0</td>\n      <td>0.0</td>\n      <td>0.0</td>\n      <td>0.0</td>\n      <td>1.0</td>\n      <td>0.0</td>\n    </tr>\n  </tbody>\n</table>\n</div>"
     },
     "execution_count": 36,
     "metadata": {},
     "output_type": "execute_result"
    }
   ],
   "source": [
    "from sklearn.preprocessing import OneHotEncoder\n",
    "\n",
    "ohe = OneHotEncoder()  #TODO: categories\n",
    "X['town'] = X['town'].astype('category')\n",
    "\n",
    "X_ = ohe.fit_transform(X[['town', 'area']]).toarray()\n",
    "X.join(pd.DataFrame(X_))"
   ],
   "metadata": {
    "collapsed": false
   }
  },
  {
   "cell_type": "code",
   "execution_count": 37,
   "outputs": [
    {
     "data": {
      "text/plain": "<13x12 sparse matrix of type '<class 'numpy.float64'>'\n\twith 26 stored elements in Compressed Sparse Row format>"
     },
     "execution_count": 37,
     "metadata": {},
     "output_type": "execute_result"
    }
   ],
   "source": [
    "ohe.fit_transform(X.values)"
   ],
   "metadata": {
    "collapsed": false
   }
  },
  {
   "cell_type": "code",
   "execution_count": 51,
   "outputs": [
    {
     "data": {
      "text/plain": "array([[1.0e+00, 0.0e+00, 0.0e+00, 2.6e+03],\n       [1.0e+00, 0.0e+00, 0.0e+00, 3.0e+03],\n       [1.0e+00, 0.0e+00, 0.0e+00, 3.2e+03],\n       [1.0e+00, 0.0e+00, 0.0e+00, 3.6e+03],\n       [1.0e+00, 0.0e+00, 0.0e+00, 4.0e+03],\n       [0.0e+00, 0.0e+00, 1.0e+00, 2.6e+03],\n       [0.0e+00, 0.0e+00, 1.0e+00, 2.8e+03],\n       [0.0e+00, 0.0e+00, 1.0e+00, 3.3e+03],\n       [0.0e+00, 0.0e+00, 1.0e+00, 3.6e+03],\n       [0.0e+00, 1.0e+00, 0.0e+00, 2.6e+03],\n       [0.0e+00, 1.0e+00, 0.0e+00, 2.9e+03],\n       [0.0e+00, 1.0e+00, 0.0e+00, 3.1e+03],\n       [0.0e+00, 1.0e+00, 0.0e+00, 3.6e+03]])"
     },
     "execution_count": 51,
     "metadata": {},
     "output_type": "execute_result"
    }
   ],
   "source": [
    "from sklearn.preprocessing import OneHotEncoder\n",
    "from sklearn.compose import ColumnTransformer\n",
    "\n",
    "ct = ColumnTransformer([('town', OneHotEncoder(), [0])], remainder='passthrough')\n",
    "X_ct = ct.fit_transform(X)\n",
    "X_ct"
   ],
   "metadata": {
    "collapsed": false
   }
  },
  {
   "cell_type": "code",
   "execution_count": 52,
   "outputs": [
    {
     "data": {
      "text/plain": "array([[0.0e+00, 0.0e+00, 2.6e+03],\n       [0.0e+00, 0.0e+00, 3.0e+03],\n       [0.0e+00, 0.0e+00, 3.2e+03],\n       [0.0e+00, 0.0e+00, 3.6e+03],\n       [0.0e+00, 0.0e+00, 4.0e+03],\n       [0.0e+00, 1.0e+00, 2.6e+03],\n       [0.0e+00, 1.0e+00, 2.8e+03],\n       [0.0e+00, 1.0e+00, 3.3e+03],\n       [0.0e+00, 1.0e+00, 3.6e+03],\n       [1.0e+00, 0.0e+00, 2.6e+03],\n       [1.0e+00, 0.0e+00, 2.9e+03],\n       [1.0e+00, 0.0e+00, 3.1e+03],\n       [1.0e+00, 0.0e+00, 3.6e+03]])"
     },
     "execution_count": 52,
     "metadata": {},
     "output_type": "execute_result"
    }
   ],
   "source": [
    "X_ct = X_ct[:, 1:]  # removing one of the towns to prevent dummy variable trap\n",
    "X_ct"
   ],
   "metadata": {
    "collapsed": false
   }
  },
  {
   "cell_type": "code",
   "execution_count": 53,
   "outputs": [
    {
     "data": {
      "text/plain": "LinearRegression()"
     },
     "execution_count": 53,
     "metadata": {},
     "output_type": "execute_result"
    }
   ],
   "source": [
    "from sklearn.linear_model import LinearRegression\n",
    "\n",
    "m = LinearRegression()\n",
    "m.fit(X_ct, y)"
   ],
   "metadata": {
    "collapsed": false
   }
  },
  {
   "cell_type": "code",
   "execution_count": 55,
   "outputs": [
    {
     "data": {
      "text/plain": "array([590775.63964739])"
     },
     "execution_count": 55,
     "metadata": {},
     "output_type": "execute_result"
    }
   ],
   "source": [
    "m.predict([[1, 0, 2800]])"
   ],
   "metadata": {
    "collapsed": false
   }
  },
  {
   "cell_type": "markdown",
   "source": [
    "Exercise"
   ],
   "metadata": {
    "collapsed": false
   }
  },
  {
   "cell_type": "code",
   "execution_count": null,
   "outputs": [],
   "source": [],
   "metadata": {
    "collapsed": false
   }
  },
  {
   "cell_type": "code",
   "execution_count": null,
   "outputs": [],
   "source": [],
   "metadata": {
    "collapsed": false
   }
  },
  {
   "cell_type": "code",
   "execution_count": null,
   "outputs": [],
   "source": [],
   "metadata": {
    "collapsed": false
   }
  },
  {
   "cell_type": "code",
   "execution_count": null,
   "outputs": [],
   "source": [],
   "metadata": {
    "collapsed": false
   }
  }
 ],
 "metadata": {
  "kernelspec": {
   "display_name": "Python 3",
   "language": "python",
   "name": "python3"
  },
  "language_info": {
   "codemirror_mode": {
    "name": "ipython",
    "version": 2
   },
   "file_extension": ".py",
   "mimetype": "text/x-python",
   "name": "python",
   "nbconvert_exporter": "python",
   "pygments_lexer": "ipython2",
   "version": "2.7.6"
  }
 },
 "nbformat": 4,
 "nbformat_minor": 0
}
