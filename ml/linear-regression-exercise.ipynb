{
 "cells": [
  {
   "cell_type": "markdown",
   "source": [
    "<h3>Exercise</h3>"
   ],
   "metadata": {
    "collapsed": false
   }
  },
  {
   "cell_type": "markdown",
   "source": [
    "<p >Predict canada's per capita income in year 2020. There is an exercise folder here on github at same level as this notebook, download that and you will find canada_per_capita_income.csv file. Using this build a regression model and predict the per capita income fo canadian citizens in year 2020</p>"
   ],
   "metadata": {
    "collapsed": false
   }
  },
  {
   "cell_type": "code",
   "execution_count": null,
   "outputs": [],
   "source": [
    "Answer = 41288.69409442"
   ],
   "metadata": {
    "collapsed": false
   }
  },
  {
   "cell_type": "code",
   "execution_count": 2,
   "outputs": [],
   "source": [
    "import matplotlib.pyplot as plt\n",
    "import pandas as pd"
   ],
   "metadata": {
    "collapsed": false
   }
  },
  {
   "cell_type": "code",
   "execution_count": 12,
   "outputs": [
    {
     "data": {
      "text/plain": "    year  per_capita_income_in_usd\n0   1970               3399.299037\n1   1971               3768.297935\n2   1972               4251.175484\n3   1973               4804.463248\n4   1974               5576.514583\n5   1975               5998.144346\n6   1976               7062.131392\n7   1977               7100.126170\n8   1978               7247.967035\n9   1979               7602.912681\n10  1980               8355.968120\n11  1981               9434.390652\n12  1982               9619.438377\n13  1983              10416.536590\n14  1984              10790.328720\n15  1985              11018.955850\n16  1986              11482.891530\n17  1987              12974.806620\n18  1988              15080.283450\n19  1989              16426.725480\n20  1990              16838.673200\n21  1991              17266.097690\n22  1992              16412.083090\n23  1993              15875.586730\n24  1994              15755.820270\n25  1995              16369.317250\n26  1996              16699.826680\n27  1997              17310.757750\n28  1998              16622.671870\n29  1999              17581.024140\n30  2000              18987.382410\n31  2001              18601.397240\n32  2002              19232.175560\n33  2003              22739.426280\n34  2004              25719.147150\n35  2005              29198.055690\n36  2006              32738.262900\n37  2007              36144.481220\n38  2008              37446.486090\n39  2009              32755.176820\n40  2010              38420.522890\n41  2011              42334.711210\n42  2012              42665.255970\n43  2013              42676.468370\n44  2014              41039.893600\n45  2015              35175.188980\n46  2016              34229.193630",
      "text/html": "<div>\n<style scoped>\n    .dataframe tbody tr th:only-of-type {\n        vertical-align: middle;\n    }\n\n    .dataframe tbody tr th {\n        vertical-align: top;\n    }\n\n    .dataframe thead th {\n        text-align: right;\n    }\n</style>\n<table border=\"1\" class=\"dataframe\">\n  <thead>\n    <tr style=\"text-align: right;\">\n      <th></th>\n      <th>year</th>\n      <th>per_capita_income_in_usd</th>\n    </tr>\n  </thead>\n  <tbody>\n    <tr>\n      <th>0</th>\n      <td>1970</td>\n      <td>3399.299037</td>\n    </tr>\n    <tr>\n      <th>1</th>\n      <td>1971</td>\n      <td>3768.297935</td>\n    </tr>\n    <tr>\n      <th>2</th>\n      <td>1972</td>\n      <td>4251.175484</td>\n    </tr>\n    <tr>\n      <th>3</th>\n      <td>1973</td>\n      <td>4804.463248</td>\n    </tr>\n    <tr>\n      <th>4</th>\n      <td>1974</td>\n      <td>5576.514583</td>\n    </tr>\n    <tr>\n      <th>5</th>\n      <td>1975</td>\n      <td>5998.144346</td>\n    </tr>\n    <tr>\n      <th>6</th>\n      <td>1976</td>\n      <td>7062.131392</td>\n    </tr>\n    <tr>\n      <th>7</th>\n      <td>1977</td>\n      <td>7100.126170</td>\n    </tr>\n    <tr>\n      <th>8</th>\n      <td>1978</td>\n      <td>7247.967035</td>\n    </tr>\n    <tr>\n      <th>9</th>\n      <td>1979</td>\n      <td>7602.912681</td>\n    </tr>\n    <tr>\n      <th>10</th>\n      <td>1980</td>\n      <td>8355.968120</td>\n    </tr>\n    <tr>\n      <th>11</th>\n      <td>1981</td>\n      <td>9434.390652</td>\n    </tr>\n    <tr>\n      <th>12</th>\n      <td>1982</td>\n      <td>9619.438377</td>\n    </tr>\n    <tr>\n      <th>13</th>\n      <td>1983</td>\n      <td>10416.536590</td>\n    </tr>\n    <tr>\n      <th>14</th>\n      <td>1984</td>\n      <td>10790.328720</td>\n    </tr>\n    <tr>\n      <th>15</th>\n      <td>1985</td>\n      <td>11018.955850</td>\n    </tr>\n    <tr>\n      <th>16</th>\n      <td>1986</td>\n      <td>11482.891530</td>\n    </tr>\n    <tr>\n      <th>17</th>\n      <td>1987</td>\n      <td>12974.806620</td>\n    </tr>\n    <tr>\n      <th>18</th>\n      <td>1988</td>\n      <td>15080.283450</td>\n    </tr>\n    <tr>\n      <th>19</th>\n      <td>1989</td>\n      <td>16426.725480</td>\n    </tr>\n    <tr>\n      <th>20</th>\n      <td>1990</td>\n      <td>16838.673200</td>\n    </tr>\n    <tr>\n      <th>21</th>\n      <td>1991</td>\n      <td>17266.097690</td>\n    </tr>\n    <tr>\n      <th>22</th>\n      <td>1992</td>\n      <td>16412.083090</td>\n    </tr>\n    <tr>\n      <th>23</th>\n      <td>1993</td>\n      <td>15875.586730</td>\n    </tr>\n    <tr>\n      <th>24</th>\n      <td>1994</td>\n      <td>15755.820270</td>\n    </tr>\n    <tr>\n      <th>25</th>\n      <td>1995</td>\n      <td>16369.317250</td>\n    </tr>\n    <tr>\n      <th>26</th>\n      <td>1996</td>\n      <td>16699.826680</td>\n    </tr>\n    <tr>\n      <th>27</th>\n      <td>1997</td>\n      <td>17310.757750</td>\n    </tr>\n    <tr>\n      <th>28</th>\n      <td>1998</td>\n      <td>16622.671870</td>\n    </tr>\n    <tr>\n      <th>29</th>\n      <td>1999</td>\n      <td>17581.024140</td>\n    </tr>\n    <tr>\n      <th>30</th>\n      <td>2000</td>\n      <td>18987.382410</td>\n    </tr>\n    <tr>\n      <th>31</th>\n      <td>2001</td>\n      <td>18601.397240</td>\n    </tr>\n    <tr>\n      <th>32</th>\n      <td>2002</td>\n      <td>19232.175560</td>\n    </tr>\n    <tr>\n      <th>33</th>\n      <td>2003</td>\n      <td>22739.426280</td>\n    </tr>\n    <tr>\n      <th>34</th>\n      <td>2004</td>\n      <td>25719.147150</td>\n    </tr>\n    <tr>\n      <th>35</th>\n      <td>2005</td>\n      <td>29198.055690</td>\n    </tr>\n    <tr>\n      <th>36</th>\n      <td>2006</td>\n      <td>32738.262900</td>\n    </tr>\n    <tr>\n      <th>37</th>\n      <td>2007</td>\n      <td>36144.481220</td>\n    </tr>\n    <tr>\n      <th>38</th>\n      <td>2008</td>\n      <td>37446.486090</td>\n    </tr>\n    <tr>\n      <th>39</th>\n      <td>2009</td>\n      <td>32755.176820</td>\n    </tr>\n    <tr>\n      <th>40</th>\n      <td>2010</td>\n      <td>38420.522890</td>\n    </tr>\n    <tr>\n      <th>41</th>\n      <td>2011</td>\n      <td>42334.711210</td>\n    </tr>\n    <tr>\n      <th>42</th>\n      <td>2012</td>\n      <td>42665.255970</td>\n    </tr>\n    <tr>\n      <th>43</th>\n      <td>2013</td>\n      <td>42676.468370</td>\n    </tr>\n    <tr>\n      <th>44</th>\n      <td>2014</td>\n      <td>41039.893600</td>\n    </tr>\n    <tr>\n      <th>45</th>\n      <td>2015</td>\n      <td>35175.188980</td>\n    </tr>\n    <tr>\n      <th>46</th>\n      <td>2016</td>\n      <td>34229.193630</td>\n    </tr>\n  </tbody>\n</table>\n</div>"
     },
     "execution_count": 12,
     "metadata": {},
     "output_type": "execute_result"
    }
   ],
   "source": [
    "df = pd.read_csv('dataset/canada_per_capita_income.csv')\n",
    "df"
   ],
   "metadata": {
    "collapsed": false
   }
  },
  {
   "cell_type": "code",
   "execution_count": 22,
   "outputs": [],
   "source": [
    "y = df['per_capita_income_in_usd']\n",
    "X = df[['year']]"
   ],
   "metadata": {
    "collapsed": false
   }
  },
  {
   "cell_type": "code",
   "execution_count": 8,
   "outputs": [
    {
     "data": {
      "text/plain": "<matplotlib.collections.PathCollection at 0x7f9420e715b0>"
     },
     "execution_count": 8,
     "metadata": {},
     "output_type": "execute_result"
    },
    {
     "data": {
      "text/plain": "<Figure size 640x480 with 1 Axes>",
      "image/png": "[encoded data removed]"
     },
     "metadata": {},
     "output_type": "display_data"
    }
   ],
   "source": [
    "%matplotlib inline\n",
    "plt.xlabel(\"year\")\n",
    "plt.ylabel(\"per_capita_income_usd\")\n",
    "plt.scatter(df.year, df['per_capita_income_in_usd'])"
   ],
   "metadata": {
    "collapsed": false
   }
  },
  {
   "cell_type": "code",
   "execution_count": 23,
   "outputs": [
    {
     "data": {
      "text/plain": "LinearRegression()"
     },
     "execution_count": 23,
     "metadata": {},
     "output_type": "execute_result"
    }
   ],
   "source": [
    "from sklearn import linear_model\n",
    "\n",
    "reg = linear_model.LinearRegression()\n",
    "reg.fit(X, y)"
   ],
   "metadata": {
    "collapsed": false
   }
  },
  {
   "cell_type": "code",
   "execution_count": 19,
   "outputs": [
    {
     "data": {
      "text/plain": "array([828.46507522])"
     },
     "execution_count": 19,
     "metadata": {},
     "output_type": "execute_result"
    }
   ],
   "source": [
    "reg.coef_"
   ],
   "metadata": {
    "collapsed": false
   }
  },
  {
   "cell_type": "code",
   "execution_count": 20,
   "outputs": [
    {
     "data": {
      "text/plain": "-1632210.7578554575"
     },
     "execution_count": 20,
     "metadata": {},
     "output_type": "execute_result"
    }
   ],
   "source": [
    "reg.intercept_"
   ],
   "metadata": {
    "collapsed": false
   }
  },
  {
   "cell_type": "code",
   "execution_count": 30,
   "outputs": [
    {
     "data": {
      "text/plain": "    year\n0   1970\n1   1971\n2   1972\n3   1973\n4   1974\n5   1975\n6   1976\n7   1977\n8   1978\n9   1979\n10  1980\n11  1981\n12  1982\n13  1983\n14  1984\n15  1985\n16  1986\n17  1987\n18  1988\n19  1989\n20  1990\n21  1991\n22  1992\n23  1993\n24  1994\n25  1995\n26  1996\n27  1997\n28  1998\n29  1999\n30  2000\n31  2001\n32  2002\n33  2003\n34  2004\n35  2005\n36  2006\n37  2007\n38  2008\n39  2009\n40  2010\n41  2011\n42  2012\n43  2013\n44  2014\n45  2015\n46  2016",
      "text/html": "<div>\n<style scoped>\n    .dataframe tbody tr th:only-of-type {\n        vertical-align: middle;\n    }\n\n    .dataframe tbody tr th {\n        vertical-align: top;\n    }\n\n    .dataframe thead th {\n        text-align: right;\n    }\n</style>\n<table border=\"1\" class=\"dataframe\">\n  <thead>\n    <tr style=\"text-align: right;\">\n      <th></th>\n      <th>year</th>\n    </tr>\n  </thead>\n  <tbody>\n    <tr>\n      <th>0</th>\n      <td>1970</td>\n    </tr>\n    <tr>\n      <th>1</th>\n      <td>1971</td>\n    </tr>\n    <tr>\n      <th>2</th>\n      <td>1972</td>\n    </tr>\n    <tr>\n      <th>3</th>\n      <td>1973</td>\n    </tr>\n    <tr>\n      <th>4</th>\n      <td>1974</td>\n    </tr>\n    <tr>\n      <th>5</th>\n      <td>1975</td>\n    </tr>\n    <tr>\n      <th>6</th>\n      <td>1976</td>\n    </tr>\n    <tr>\n      <th>7</th>\n      <td>1977</td>\n    </tr>\n    <tr>\n      <th>8</th>\n      <td>1978</td>\n    </tr>\n    <tr>\n      <th>9</th>\n      <td>1979</td>\n    </tr>\n    <tr>\n      <th>10</th>\n      <td>1980</td>\n    </tr>\n    <tr>\n      <th>11</th>\n      <td>1981</td>\n    </tr>\n    <tr>\n      <th>12</th>\n      <td>1982</td>\n    </tr>\n    <tr>\n      <th>13</th>\n      <td>1983</td>\n    </tr>\n    <tr>\n      <th>14</th>\n      <td>1984</td>\n    </tr>\n    <tr>\n      <th>15</th>\n      <td>1985</td>\n    </tr>\n    <tr>\n      <th>16</th>\n      <td>1986</td>\n    </tr>\n    <tr>\n      <th>17</th>\n      <td>1987</td>\n    </tr>\n    <tr>\n      <th>18</th>\n      <td>1988</td>\n    </tr>\n    <tr>\n      <th>19</th>\n      <td>1989</td>\n    </tr>\n    <tr>\n      <th>20</th>\n      <td>1990</td>\n    </tr>\n    <tr>\n      <th>21</th>\n      <td>1991</td>\n    </tr>\n    <tr>\n      <th>22</th>\n      <td>1992</td>\n    </tr>\n    <tr>\n      <th>23</th>\n      <td>1993</td>\n    </tr>\n    <tr>\n      <th>24</th>\n      <td>1994</td>\n    </tr>\n    <tr>\n      <th>25</th>\n      <td>1995</td>\n    </tr>\n    <tr>\n      <th>26</th>\n      <td>1996</td>\n    </tr>\n    <tr>\n      <th>27</th>\n      <td>1997</td>\n    </tr>\n    <tr>\n      <th>28</th>\n      <td>1998</td>\n    </tr>\n    <tr>\n      <th>29</th>\n      <td>1999</td>\n    </tr>\n    <tr>\n      <th>30</th>\n      <td>2000</td>\n    </tr>\n    <tr>\n      <th>31</th>\n      <td>2001</td>\n    </tr>\n    <tr>\n      <th>32</th>\n      <td>2002</td>\n    </tr>\n    <tr>\n      <th>33</th>\n      <td>2003</td>\n    </tr>\n    <tr>\n      <th>34</th>\n      <td>2004</td>\n    </tr>\n    <tr>\n      <th>35</th>\n      <td>2005</td>\n    </tr>\n    <tr>\n      <th>36</th>\n      <td>2006</td>\n    </tr>\n    <tr>\n      <th>37</th>\n      <td>2007</td>\n    </tr>\n    <tr>\n      <th>38</th>\n      <td>2008</td>\n    </tr>\n    <tr>\n      <th>39</th>\n      <td>2009</td>\n    </tr>\n    <tr>\n      <th>40</th>\n      <td>2010</td>\n    </tr>\n    <tr>\n      <th>41</th>\n      <td>2011</td>\n    </tr>\n    <tr>\n      <th>42</th>\n      <td>2012</td>\n    </tr>\n    <tr>\n      <th>43</th>\n      <td>2013</td>\n    </tr>\n    <tr>\n      <th>44</th>\n      <td>2014</td>\n    </tr>\n    <tr>\n      <th>45</th>\n      <td>2015</td>\n    </tr>\n    <tr>\n      <th>46</th>\n      <td>2016</td>\n    </tr>\n  </tbody>\n</table>\n</div>"
     },
     "execution_count": 30,
     "metadata": {},
     "output_type": "execute_result"
    }
   ],
   "source": [
    "X"
   ],
   "metadata": {
    "collapsed": false
   }
  },
  {
   "cell_type": "code",
   "execution_count": 29,
   "outputs": [
    {
     "name": "stderr",
     "output_type": "stream",
     "text": [
      "/Users/hiro/opt/anaconda3/lib/python3.9/site-packages/sklearn/base.py:450: UserWarning: X does not have valid feature names, but LinearRegression was fitted with feature names\n",
      "  warnings.warn(\n"
     ]
    },
    {
     "data": {
      "text/plain": "array([41288.69409442, 42117.15916964])"
     },
     "execution_count": 29,
     "metadata": {},
     "output_type": "execute_result"
    }
   ],
   "source": [
    "reg.predict([[2020], [2021]])"
   ],
   "metadata": {
    "collapsed": false
   }
  }
 ],
 "metadata": {
  "kernelspec": {
   "display_name": "Python 3",
   "language": "python",
   "name": "python3"
  },
  "language_info": {
   "codemirror_mode": {
    "name": "ipython",
    "version": 2
   },
   "file_extension": ".py",
   "mimetype": "text/x-python",
   "name": "python",
   "nbconvert_exporter": "python",
   "pygments_lexer": "ipython2",
   "version": "2.7.6"
  }
 },
 "nbformat": 4,
 "nbformat_minor": 0
}
